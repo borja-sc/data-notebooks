{
  "nbformat": 4,
  "nbformat_minor": 0,
  "metadata": {
    "colab": {
      "provenance": [],
      "collapsed_sections": [
        "C91wqXBFcccd",
        "fIxkrWTaKSim",
        "2vx4Z1e8LeLM",
        "vSRtNciZ1wnI"
      ],
      "toc_visible": true
    },
    "kernelspec": {
      "name": "python3",
      "display_name": "Python 3"
    },
    "language_info": {
      "name": "python"
    }
  },
  "cells": [
    {
      "cell_type": "markdown",
      "metadata": {
        "id": "MgBfFqyK5mDx"
      },
      "source": [
        "# Imports"
      ]
    },
    {
      "cell_type": "code",
      "metadata": {
        "id": "B1S8AeRq5qZx"
      },
      "source": [
        "import pandas as pd\n",
        "import warnings\n",
        "warnings.filterwarnings('ignore')\n",
        "import numpy as np\n",
        "import gensim\n",
        "from gensim.models import Word2Vec\n",
        "import sklearn\n",
        "from sklearn.neighbors import NearestNeighbors, KDTree\n",
        "from sklearn.manifold import TSNE\n",
        "from sklearn.decomposition import PCA\n",
        "import matplotlib.pyplot as plt\n",
        "import statistics\n",
        "\n",
        "%matplotlib inline\n",
        " \n",
        "import seaborn as sns\n",
        "sns.set_style(\"darkgrid\")"
      ],
      "execution_count": null,
      "outputs": []
    },
    {
      "cell_type": "code",
      "metadata": {
        "id": "k4-8wvNgl8DS"
      },
      "source": [
        "# Add DS_Project folder to your Drive and run this to access its files\n",
        "from google.colab import drive\n",
        "drive.mount('/content/drive')\n",
        "\n",
        "!ls \"/content/drive/My Drive\"\n",
        "\n",
        "# When loading files, their path will be something like:\n",
        "# '/content/drive/My Drive/DS_Project/<file>'"
      ],
      "execution_count": null,
      "outputs": []
    },
    {
      "cell_type": "code",
      "metadata": {
        "id": "ce7kYM5Ada7Q"
      },
      "source": [
        "# Load a model\n",
        "model = Word2Vec.load(\"/content/drive/My Drive/DS_Project/word2vec-dataset400k200dim1.model\")"
      ],
      "execution_count": null,
      "outputs": []
    },
    {
      "cell_type": "code",
      "metadata": {
        "id": "aohXt-8-ddPg",
        "colab": {
          "base_uri": "https://localhost:8080/"
        },
        "outputId": "41aa6317-f5da-4994-8865-909056a194ba"
      },
      "source": [
        "# To load dataframe from pickled pandas object\n",
        "df_w2v_100k = pd.read_pickle('/content/drive/My Drive/DS_Project/df_w2v_100k.pkl')\n",
        "display(df_w2v_100k.head())"
      ],
      "execution_count": null,
      "outputs": [
        {
          "output_type": "display_data",
          "data": {
            "text/html": [
              "<div>\n",
              "<style scoped>\n",
              "    .dataframe tbody tr th:only-of-type {\n",
              "        vertical-align: middle;\n",
              "    }\n",
              "\n",
              "    .dataframe tbody tr th {\n",
              "        vertical-align: top;\n",
              "    }\n",
              "\n",
              "    .dataframe thead th {\n",
              "        text-align: right;\n",
              "    }\n",
              "</style>\n",
              "<table border=\"1\" class=\"dataframe\">\n",
              "  <thead>\n",
              "    <tr style=\"text-align: right;\">\n",
              "      <th></th>\n",
              "      <th>rooms</th>\n",
              "      <th>area</th>\n",
              "      <th>description</th>\n",
              "      <th>price</th>\n",
              "      <th>distributionType</th>\n",
              "    </tr>\n",
              "  </thead>\n",
              "  <tbody>\n",
              "    <tr>\n",
              "      <th>0</th>\n",
              "      <td>2</td>\n",
              "      <td>46.51</td>\n",
              "      <td>Objektbeschreibung: Die barrierefreie 2-Zimmer...</td>\n",
              "      <td>127000</td>\n",
              "      <td>buy</td>\n",
              "    </tr>\n",
              "    <tr>\n",
              "      <th>1</th>\n",
              "      <td>1</td>\n",
              "      <td>30</td>\n",
              "      <td>Toprenovierte Wohnung mit Fernblick  direkte S...</td>\n",
              "      <td>37500</td>\n",
              "      <td>buy</td>\n",
              "    </tr>\n",
              "    <tr>\n",
              "      <th>2</th>\n",
              "      <td>2.5</td>\n",
              "      <td>81.24</td>\n",
              "      <td>Objektbeschreibung: Als freistehender Gebäudek...</td>\n",
              "      <td>317000</td>\n",
              "      <td>buy</td>\n",
              "    </tr>\n",
              "    <tr>\n",
              "      <th>3</th>\n",
              "      <td>3</td>\n",
              "      <td>86.01</td>\n",
              "      <td>Objektbeschreibung: Im Rahmen des Neubauprojek...</td>\n",
              "      <td>498000</td>\n",
              "      <td>buy</td>\n",
              "    </tr>\n",
              "    <tr>\n",
              "      <th>4</th>\n",
              "      <td>2.5</td>\n",
              "      <td>59.64</td>\n",
              "      <td>Als freistehender Gebäudekomplex liegen die be...</td>\n",
              "      <td>215900</td>\n",
              "      <td>buy</td>\n",
              "    </tr>\n",
              "  </tbody>\n",
              "</table>\n",
              "</div>"
            ],
            "text/plain": [
              "  rooms   area  ...   price distributionType\n",
              "0     2  46.51  ...  127000              buy\n",
              "1     1     30  ...   37500              buy\n",
              "2   2.5  81.24  ...  317000              buy\n",
              "3     3  86.01  ...  498000              buy\n",
              "4   2.5  59.64  ...  215900              buy\n",
              "\n",
              "[5 rows x 5 columns]"
            ]
          },
          "metadata": {
            "tags": []
          }
        }
      ]
    },
    {
      "cell_type": "code",
      "metadata": {
        "id": "k0mKWtRCdgDH",
        "colab": {
          "base_uri": "https://localhost:8080/"
        },
        "outputId": "ecaf06c0-5a72-458c-b823-e1d5ecc13c8b"
      },
      "source": [
        "# Save and load objects\n",
        "import pickle\n",
        " \n",
        "# SAVE\n",
        "'''with open('/content/drive/My Drive/DS_Project/description_average200dim_10k.pkl', 'wb') as text_file:\n",
        "\n",
        "  pickle.dump(description_average_embedding, text_file)\n",
        "'''\n",
        "# LOAD\n",
        "with open('/content/drive/My Drive/DS_Project/description_text100k.pkl', 'rb') as text_file:\n",
        " \n",
        "    description_text = pickle.load(text_file)\n",
        " \n",
        "    # After text is read from file\n",
        "    print(description_text)\n",
        "    "
      ],
      "execution_count": null,
      "outputs": [
        {
          "output_type": "stream",
          "text": [
            "0         [die, barrierefreie, zimmer, wohnung, mit, ein...\n",
            "1         [toprenovierte, wohnung, mit, fernblick, direk...\n",
            "2         [als, freistehender, gebäudekomplex, liegen, d...\n",
            "3         [im, rahmen, des, neubauprojektes, quot, capel...\n",
            "4         [als, freistehender, gebäudekomplex, liegen, d...\n",
            "                                ...                        \n",
            "107467    [hallo, br, br, biete, hier, eine, möblierte, ...\n",
            "107468    [schicke, im, zentrum, von, marktredwitz, neu,...\n",
            "107469    [schöne, stadtwohnung, auf, der, stock, br, zi...\n",
            "107470    [diese, zimmer, etagenwohnung, befindet, sich,...\n",
            "107471    [wir, bieten, hier, eine, ab, verfügbare, neuw...\n",
            "Name: description, Length: 100000, dtype: object\n"
          ],
          "name": "stdout"
        }
      ]
    },
    {
      "cell_type": "markdown",
      "metadata": {
        "id": "idf0IJdwcqoD"
      },
      "source": [
        "# Load data"
      ]
    },
    {
      "cell_type": "code",
      "metadata": {
        "colab": {
          "base_uri": "https://localhost:8080/"
        },
        "id": "TNkZbGe-TCqf",
        "outputId": "298f68fb-a69e-4e73-dab6-99e644196bf9"
      },
      "source": [
        "!wget https://www.dropbox.com/s/1s801swyj9w00ko/uniqueListings.zip?dl=1"
      ],
      "execution_count": null,
      "outputs": [
        {
          "output_type": "stream",
          "text": [
            "--2021-07-31 08:27:57--  https://www.dropbox.com/s/1s801swyj9w00ko/uniqueListings.zip?dl=1\n",
            "Resolving www.dropbox.com (www.dropbox.com)... 162.125.71.18, 2620:100:6020:18::a27d:4012\n",
            "Connecting to www.dropbox.com (www.dropbox.com)|162.125.71.18|:443... connected.\n",
            "HTTP request sent, awaiting response... 301 Moved Permanently\n",
            "Location: /s/dl/1s801swyj9w00ko/uniqueListings.zip [following]\n",
            "--2021-07-31 08:27:57--  https://www.dropbox.com/s/dl/1s801swyj9w00ko/uniqueListings.zip\n",
            "Reusing existing connection to www.dropbox.com:443.\n",
            "HTTP request sent, awaiting response... 302 Found\n",
            "Location: https://ucf4bbc4dbdfd15587eecdbbb51a.dl.dropboxusercontent.com/cd/0/get/BTWtPsNH8BAKIk5X9aHmNppel3Gru97NE90h7nYDN03xbQ0tpU39f5AYuHCi9wycpiWULuX9xHM2rvPfXedHlbl1YjosiotPTob0we43KbvBBmYp6fRhxn5EWWM3z30SUgEJwTjulpPfAm4WcmS94nL8/file?dl=1# [following]\n",
            "--2021-07-31 08:27:58--  https://ucf4bbc4dbdfd15587eecdbbb51a.dl.dropboxusercontent.com/cd/0/get/BTWtPsNH8BAKIk5X9aHmNppel3Gru97NE90h7nYDN03xbQ0tpU39f5AYuHCi9wycpiWULuX9xHM2rvPfXedHlbl1YjosiotPTob0we43KbvBBmYp6fRhxn5EWWM3z30SUgEJwTjulpPfAm4WcmS94nL8/file?dl=1\n",
            "Resolving ucf4bbc4dbdfd15587eecdbbb51a.dl.dropboxusercontent.com (ucf4bbc4dbdfd15587eecdbbb51a.dl.dropboxusercontent.com)... 162.125.65.15, 2620:100:6027:15::a27d:480f\n",
            "Connecting to ucf4bbc4dbdfd15587eecdbbb51a.dl.dropboxusercontent.com (ucf4bbc4dbdfd15587eecdbbb51a.dl.dropboxusercontent.com)|162.125.65.15|:443... connected.\n",
            "HTTP request sent, awaiting response... 200 OK\n",
            "Length: 1556087010 (1.4G) [application/binary]\n",
            "Saving to: ‘uniqueListings.zip?dl=1’\n",
            "\n",
            "uniqueListings.zip? 100%[===================>]   1.45G  22.2MB/s    in 58s     \n",
            "\n",
            "2021-07-31 08:28:56 (25.7 MB/s) - ‘uniqueListings.zip?dl=1’ saved [1556087010/1556087010]\n",
            "\n"
          ],
          "name": "stdout"
        }
      ]
    },
    {
      "cell_type": "code",
      "metadata": {
        "colab": {
          "base_uri": "https://localhost:8080/"
        },
        "id": "EaN_NpFITJFM",
        "outputId": "9405dba7-919a-43d6-be42-ca9b981500bb"
      },
      "source": [
        "!unzip uniqueListings.zip?dl=1"
      ],
      "execution_count": null,
      "outputs": [
        {
          "output_type": "stream",
          "text": [
            "Archive:  uniqueListings.zip?dl=1\n",
            "  inflating: uniqueListings.csv      \n"
          ],
          "name": "stdout"
        }
      ]
    },
    {
      "cell_type": "code",
      "metadata": {
        "colab": {
          "base_uri": "https://localhost:8080/"
        },
        "id": "Dy2d1EdDTMr5",
        "outputId": "f887a00f-bfdc-42f9-ace4-e186b13d849f"
      },
      "source": [
        "!ls"
      ],
      "execution_count": null,
      "outputs": [
        {
          "output_type": "stream",
          "text": [
            " sample_data   uniqueListings.csv  'uniqueListings.zip?dl=1'\n"
          ],
          "name": "stdout"
        }
      ]
    },
    {
      "cell_type": "code",
      "metadata": {
        "id": "PasmdkqmTQBU"
      },
      "source": [
        "df = pd.read_csv('uniqueListings.csv')"
      ],
      "execution_count": null,
      "outputs": []
    },
    {
      "cell_type": "code",
      "metadata": {
        "colab": {
          "base_uri": "https://localhost:8080/",
          "height": 337
        },
        "id": "W-Ye1yvkTRu7",
        "outputId": "6b8ee666-545b-4238-cfa7-8cb6119dca71"
      },
      "source": [
        "df.head(3)"
      ],
      "execution_count": null,
      "outputs": [
        {
          "output_type": "execute_result",
          "data": {
            "text/html": [
              "<div>\n",
              "<style scoped>\n",
              "    .dataframe tbody tr th:only-of-type {\n",
              "        vertical-align: middle;\n",
              "    }\n",
              "\n",
              "    .dataframe tbody tr th {\n",
              "        vertical-align: top;\n",
              "    }\n",
              "\n",
              "    .dataframe thead th {\n",
              "        text-align: right;\n",
              "    }\n",
              "</style>\n",
              "<table border=\"1\" class=\"dataframe\">\n",
              "  <thead>\n",
              "    <tr style=\"text-align: right;\">\n",
              "      <th></th>\n",
              "      <th>_id</th>\n",
              "      <th>estateType</th>\n",
              "      <th>area</th>\n",
              "      <th>rooms</th>\n",
              "      <th>zip</th>\n",
              "      <th>commission</th>\n",
              "      <th>commissionPercentage</th>\n",
              "      <th>constructionYear</th>\n",
              "      <th>daysActive</th>\n",
              "      <th>description</th>\n",
              "      <th>estateTypeCode</th>\n",
              "      <th>estateTypeDetail</th>\n",
              "      <th>estateTypeDetailCode</th>\n",
              "      <th>firstSeen</th>\n",
              "      <th>firstTimeUse</th>\n",
              "      <th>imageCount</th>\n",
              "      <th>lastSeen</th>\n",
              "      <th>listingActive</th>\n",
              "      <th>location.isPublic</th>\n",
              "      <th>location.coordinates.type</th>\n",
              "      <th>location.coordinates.coordinates</th>\n",
              "      <th>location.zip</th>\n",
              "      <th>location.zipCity</th>\n",
              "      <th>location.city</th>\n",
              "      <th>location.state</th>\n",
              "      <th>location.county</th>\n",
              "      <th>price</th>\n",
              "      <th>title</th>\n",
              "      <th>distributionType</th>\n",
              "      <th>referencePrice.lowerSimpleStd</th>\n",
              "      <th>referencePrice.higherSimpleStd</th>\n",
              "      <th>referencePrice.lowerTwiceStd</th>\n",
              "      <th>referencePrice.higherTwiceStd</th>\n",
              "      <th>referencePrice.averagePricePerSqm</th>\n",
              "      <th>referencePrice.averagePriceTotal</th>\n",
              "      <th>referencePrice.livingAreaAvg</th>\n",
              "      <th>referencePrice.comparisonCount</th>\n",
              "      <th>referencePrice.radiusM</th>\n",
              "      <th>commissionTotal</th>\n",
              "      <th>descriptionLength</th>\n",
              "      <th>priceDeviation</th>\n",
              "      <th>platformCount</th>\n",
              "      <th>platformEbay</th>\n",
              "      <th>platformImmoscout</th>\n",
              "      <th>platformImmowelt</th>\n",
              "      <th>auction</th>\n",
              "      <th>collective</th>\n",
              "      <th>leasehold</th>\n",
              "      <th>lifehold</th>\n",
              "      <th>preservation</th>\n",
              "    </tr>\n",
              "  </thead>\n",
              "  <tbody>\n",
              "    <tr>\n",
              "      <th>0</th>\n",
              "      <td>01b1241c-6be4-4afa-b3aa-66ba006f2858</td>\n",
              "      <td>apartment</td>\n",
              "      <td>46.51</td>\n",
              "      <td>2</td>\n",
              "      <td>51103</td>\n",
              "      <td>True</td>\n",
              "      <td>3.48</td>\n",
              "      <td>1995</td>\n",
              "      <td>226.052</td>\n",
              "      <td>Objektbeschreibung:\\nDie barrierefreie 2-Zimme...</td>\n",
              "      <td>2</td>\n",
              "      <td>APARTMENT</td>\n",
              "      <td>118.0</td>\n",
              "      <td>2020-10-14T18:34:03.362Z</td>\n",
              "      <td>False</td>\n",
              "      <td>7</td>\n",
              "      <td>2021-05-28T19:49:09.549Z</td>\n",
              "      <td>False</td>\n",
              "      <td>False</td>\n",
              "      <td>Point</td>\n",
              "      <td>[7.0501065,50.948383]</td>\n",
              "      <td>51103</td>\n",
              "      <td>51103 Köln</td>\n",
              "      <td>Köln Merheim</td>\n",
              "      <td>Nordrhein-Westfalen</td>\n",
              "      <td>Köln</td>\n",
              "      <td>127000</td>\n",
              "      <td>Servicewohnen für Senioren in Köln Höhenberg -...</td>\n",
              "      <td>buy</td>\n",
              "      <td>2900</td>\n",
              "      <td>4850</td>\n",
              "      <td>2250.0</td>\n",
              "      <td>6250.0</td>\n",
              "      <td>3750</td>\n",
              "      <td>174450</td>\n",
              "      <td>72</td>\n",
              "      <td>500</td>\n",
              "      <td>2700</td>\n",
              "      <td>4419.6</td>\n",
              "      <td>3973</td>\n",
              "      <td>-0.271998</td>\n",
              "      <td>2.0</td>\n",
              "      <td>True</td>\n",
              "      <td>True</td>\n",
              "      <td>False</td>\n",
              "      <td>False</td>\n",
              "      <td>False</td>\n",
              "      <td>False</td>\n",
              "      <td>False</td>\n",
              "      <td>False</td>\n",
              "    </tr>\n",
              "    <tr>\n",
              "      <th>1</th>\n",
              "      <td>7ded93f0-ed77-4fc8-9fa6-d330cee370d4</td>\n",
              "      <td>apartment</td>\n",
              "      <td>30</td>\n",
              "      <td>1</td>\n",
              "      <td>50667</td>\n",
              "      <td>False</td>\n",
              "      <td>NaN</td>\n",
              "      <td>1976</td>\n",
              "      <td>3.1969</td>\n",
              "      <td>Toprenovierte Wohnung mit Fernblick &amp;#x2F;dire...</td>\n",
              "      <td>2</td>\n",
              "      <td>erdgeschosswohnung</td>\n",
              "      <td>117.0</td>\n",
              "      <td>2020-10-14T18:34:03.465Z</td>\n",
              "      <td>NaN</td>\n",
              "      <td>20</td>\n",
              "      <td>2020-10-17T23:17:35.845Z</td>\n",
              "      <td>False</td>\n",
              "      <td>False</td>\n",
              "      <td>Point</td>\n",
              "      <td>[6.9538846,50.938644]</td>\n",
              "      <td>50667</td>\n",
              "      <td>50667 Köln</td>\n",
              "      <td>Köln Altstadt</td>\n",
              "      <td>Nordrhein-Westfalen</td>\n",
              "      <td>Köln</td>\n",
              "      <td>37500</td>\n",
              "      <td>Renovierte Ferienwohnung nahe Skihang&amp;#x2F; na...</td>\n",
              "      <td>buy</td>\n",
              "      <td>3250</td>\n",
              "      <td>5250</td>\n",
              "      <td>2550.0</td>\n",
              "      <td>6700.0</td>\n",
              "      <td>4150</td>\n",
              "      <td>124050</td>\n",
              "      <td>82</td>\n",
              "      <td>500</td>\n",
              "      <td>1600</td>\n",
              "      <td>NaN</td>\n",
              "      <td>515</td>\n",
              "      <td>-0.697703</td>\n",
              "      <td>1.0</td>\n",
              "      <td>True</td>\n",
              "      <td>False</td>\n",
              "      <td>False</td>\n",
              "      <td>False</td>\n",
              "      <td>False</td>\n",
              "      <td>False</td>\n",
              "      <td>False</td>\n",
              "      <td>False</td>\n",
              "    </tr>\n",
              "    <tr>\n",
              "      <th>2</th>\n",
              "      <td>caf3d23b-44d4-42eb-90a0-6035d2151236</td>\n",
              "      <td>apartment</td>\n",
              "      <td>81.24</td>\n",
              "      <td>2.5</td>\n",
              "      <td>51105</td>\n",
              "      <td>False</td>\n",
              "      <td>NaN</td>\n",
              "      <td>1961</td>\n",
              "      <td>228.054</td>\n",
              "      <td>Objektbeschreibung:\\nAls freistehender Gebäude...</td>\n",
              "      <td>2</td>\n",
              "      <td>etagenwohnung</td>\n",
              "      <td>118.0</td>\n",
              "      <td>2020-10-14T18:34:03.592Z</td>\n",
              "      <td>False</td>\n",
              "      <td>15</td>\n",
              "      <td>2021-05-30T19:52:28.134Z</td>\n",
              "      <td>True</td>\n",
              "      <td>True</td>\n",
              "      <td>Point</td>\n",
              "      <td>[6.98784,50.92191]</td>\n",
              "      <td>51105</td>\n",
              "      <td>51105 Köln</td>\n",
              "      <td>Humboldt-Gremberg</td>\n",
              "      <td>Nordrhein-Westfalen</td>\n",
              "      <td>Köln</td>\n",
              "      <td>317000</td>\n",
              "      <td>Jetzt Kapital anlegen in vermietete 2,5-Zimmer...</td>\n",
              "      <td>buy</td>\n",
              "      <td>2400</td>\n",
              "      <td>4950</td>\n",
              "      <td>1700.0</td>\n",
              "      <td>7100.0</td>\n",
              "      <td>3450</td>\n",
              "      <td>281300</td>\n",
              "      <td>84</td>\n",
              "      <td>500</td>\n",
              "      <td>2500</td>\n",
              "      <td>NaN</td>\n",
              "      <td>4402</td>\n",
              "      <td>0.126911</td>\n",
              "      <td>3.0</td>\n",
              "      <td>True</td>\n",
              "      <td>True</td>\n",
              "      <td>True</td>\n",
              "      <td>False</td>\n",
              "      <td>False</td>\n",
              "      <td>False</td>\n",
              "      <td>False</td>\n",
              "      <td>False</td>\n",
              "    </tr>\n",
              "  </tbody>\n",
              "</table>\n",
              "</div>"
            ],
            "text/plain": [
              "                                    _id estateType  ... lifehold preservation\n",
              "0  01b1241c-6be4-4afa-b3aa-66ba006f2858  apartment  ...    False        False\n",
              "1  7ded93f0-ed77-4fc8-9fa6-d330cee370d4  apartment  ...    False        False\n",
              "2  caf3d23b-44d4-42eb-90a0-6035d2151236  apartment  ...    False        False\n",
              "\n",
              "[3 rows x 50 columns]"
            ]
          },
          "metadata": {
            "tags": []
          },
          "execution_count": 17
        }
      ]
    },
    {
      "cell_type": "markdown",
      "metadata": {
        "id": "C91wqXBFcccd"
      },
      "source": [
        "# Data exploration"
      ]
    },
    {
      "cell_type": "code",
      "metadata": {
        "colab": {
          "base_uri": "https://localhost:8080/"
        },
        "id": "4MhwuTBiTTJ5",
        "outputId": "da01e454-27b6-4ba1-ced7-cf8bc201c214"
      },
      "source": [
        "# DATASET ATTRIBUTES\n",
        "df.columns.values"
      ],
      "execution_count": null,
      "outputs": [
        {
          "output_type": "execute_result",
          "data": {
            "text/plain": [
              "array(['_id', 'estateType', 'area', 'rooms', 'zip', 'commission',\n",
              "       'commissionPercentage', 'constructionYear', 'daysActive',\n",
              "       'description', 'estateTypeCode', 'estateTypeDetail',\n",
              "       'estateTypeDetailCode', 'firstSeen', 'firstTimeUse', 'imageCount',\n",
              "       'lastSeen', 'listingActive', 'location.isPublic',\n",
              "       'location.coordinates.type', 'location.coordinates.coordinates',\n",
              "       'location.zip', 'location.zipCity', 'location.city',\n",
              "       'location.state', 'location.county', 'price', 'title',\n",
              "       'distributionType', 'referencePrice.lowerSimpleStd',\n",
              "       'referencePrice.higherSimpleStd', 'referencePrice.lowerTwiceStd',\n",
              "       'referencePrice.higherTwiceStd',\n",
              "       'referencePrice.averagePricePerSqm',\n",
              "       'referencePrice.averagePriceTotal', 'referencePrice.livingAreaAvg',\n",
              "       'referencePrice.comparisonCount', 'referencePrice.radiusM',\n",
              "       'commissionTotal', 'descriptionLength', 'priceDeviation',\n",
              "       'platformCount', 'platformEbay', 'platformImmoscout',\n",
              "       'platformImmowelt', 'auction', 'collective', 'leasehold',\n",
              "       'lifehold', 'preservation'], dtype=object)"
            ]
          },
          "metadata": {
            "tags": []
          },
          "execution_count": 11
        }
      ]
    },
    {
      "cell_type": "code",
      "metadata": {
        "colab": {
          "base_uri": "https://localhost:8080/"
        },
        "id": "Ingg6cq-TUd1",
        "outputId": "57d58a3e-4bb0-42f7-f1f5-0d83c38ea61b"
      },
      "source": [
        "# Dataset size: 2,693,876\n",
        "df.shape"
      ],
      "execution_count": null,
      "outputs": [
        {
          "output_type": "execute_result",
          "data": {
            "text/plain": [
              "(2693876, 50)"
            ]
          },
          "metadata": {
            "tags": []
          },
          "execution_count": 12
        }
      ]
    },
    {
      "cell_type": "code",
      "metadata": {
        "colab": {
          "base_uri": "https://localhost:8080/"
        },
        "id": "uDJUZ8vlTV6S",
        "outputId": "30cfdc86-bbb8-40c4-8be1-06d2aa6fe8a2"
      },
      "source": [
        "# Percentage of missing values\n",
        "# Commision data is missing is most of the dataset\n",
        "# Description missing on 22 % of the dataset\n",
        "na_ratio = df.isna().sum().sort_values(ascending=False)/len(df)\n",
        "na_ratio"
      ],
      "execution_count": null,
      "outputs": [
        {
          "output_type": "execute_result",
          "data": {
            "text/plain": [
              "commissionTotal                      0.892970\n",
              "commissionPercentage                 0.892103\n",
              "commission                           0.690752\n",
              "constructionYear                     0.520824\n",
              "firstTimeUse                         0.475869\n",
              "priceDeviation                       0.283617\n",
              "referencePrice.lowerTwiceStd         0.269339\n",
              "referencePrice.lowerSimpleStd        0.269339\n",
              "referencePrice.comparisonCount       0.269337\n",
              "referencePrice.higherTwiceStd        0.269337\n",
              "referencePrice.averagePricePerSqm    0.269337\n",
              "referencePrice.livingAreaAvg         0.269337\n",
              "referencePrice.averagePriceTotal     0.269337\n",
              "referencePrice.radiusM               0.269337\n",
              "referencePrice.higherSimpleStd       0.269337\n",
              "estateTypeCode                       0.255119\n",
              "estateTypeDetailCode                 0.230216\n",
              "rooms                                0.223698\n",
              "estateTypeDetail                     0.163205\n",
              "area                                 0.110206\n",
              "location.coordinates.coordinates     0.058087\n",
              "location.coordinates.type            0.058085\n",
              "price                                0.047202\n",
              "descriptionLength                    0.022728\n",
              "description                          0.022704\n",
              "location.zipCity                     0.003906\n",
              "location.county                      0.000842\n",
              "location.state                       0.000487\n",
              "location.zip                         0.000451\n",
              "zip                                  0.000450\n",
              "location.city                        0.000442\n",
              "preservation                         0.000050\n",
              "leasehold                            0.000050\n",
              "collective                           0.000050\n",
              "lifehold                             0.000050\n",
              "auction                              0.000050\n",
              "platformImmowelt                     0.000039\n",
              "platformCount                        0.000039\n",
              "platformEbay                         0.000039\n",
              "platformImmoscout                    0.000039\n",
              "distributionType                     0.000039\n",
              "title                                0.000026\n",
              "firstSeen                            0.000015\n",
              "listingActive                        0.000013\n",
              "daysActive                           0.000013\n",
              "lastSeen                             0.000012\n",
              "location.isPublic                    0.000012\n",
              "imageCount                           0.000012\n",
              "estateType                           0.000010\n",
              "_id                                  0.000006\n",
              "dtype: float64"
            ]
          },
          "metadata": {
            "tags": []
          },
          "execution_count": 13
        }
      ]
    },
    {
      "cell_type": "code",
      "metadata": {
        "colab": {
          "base_uri": "https://localhost:8080/"
        },
        "id": "zSXyibj6r5QT",
        "outputId": "b2b1ac3e-328b-4d21-e730-8ead94ae470a"
      },
      "source": [
        "# Percentage of listing missing rooms OR area\n",
        "df = df[['rooms', 'area']]\n",
        "print(df.shape)\n",
        "df = df[df.rooms.notnull()]\n",
        "print(df.shape)\n",
        "df = df[df.area.notnull()]\n",
        "print(df.shape)\n",
        "print('Percentage of rows missing rooms OR area: 22.5%')"
      ],
      "execution_count": null,
      "outputs": [
        {
          "output_type": "stream",
          "text": [
            "(2086819, 2)\n",
            "(2086819, 2)\n",
            "(2086819, 2)\n",
            "Percentage of rows missing rooms OR area: 22.5%\n"
          ],
          "name": "stdout"
        }
      ]
    },
    {
      "cell_type": "code",
      "metadata": {
        "colab": {
          "base_uri": "https://localhost:8080/",
          "height": 1000
        },
        "id": "FLXB0zzQTXiN",
        "outputId": "fba29139-3140-4abc-99fc-bab452e4f057"
      },
      "source": [
        "# Variable types\n",
        "print(df.info())\n",
        "\n",
        "# Basic statistical info about the variables\n",
        "df.describe()"
      ],
      "execution_count": null,
      "outputs": [
        {
          "output_type": "stream",
          "text": [
            "<class 'pandas.core.frame.DataFrame'>\n",
            "RangeIndex: 2693876 entries, 0 to 2693875\n",
            "Data columns (total 50 columns):\n",
            " #   Column                             Dtype  \n",
            "---  ------                             -----  \n",
            " 0   _id                                object \n",
            " 1   estateType                         object \n",
            " 2   area                               object \n",
            " 3   rooms                              object \n",
            " 4   zip                                object \n",
            " 5   commission                         object \n",
            " 6   commissionPercentage               object \n",
            " 7   constructionYear                   object \n",
            " 8   daysActive                         object \n",
            " 9   description                        object \n",
            " 10  estateTypeCode                     object \n",
            " 11  estateTypeDetail                   object \n",
            " 12  estateTypeDetailCode               float64\n",
            " 13  firstSeen                          object \n",
            " 14  firstTimeUse                       object \n",
            " 15  imageCount                         object \n",
            " 16  lastSeen                           object \n",
            " 17  listingActive                      object \n",
            " 18  location.isPublic                  object \n",
            " 19  location.coordinates.type          object \n",
            " 20  location.coordinates.coordinates   object \n",
            " 21  location.zip                       object \n",
            " 22  location.zipCity                   object \n",
            " 23  location.city                      object \n",
            " 24  location.state                     object \n",
            " 25  location.county                    object \n",
            " 26  price                              object \n",
            " 27  title                              object \n",
            " 28  distributionType                   object \n",
            " 29  referencePrice.lowerSimpleStd      object \n",
            " 30  referencePrice.higherSimpleStd     object \n",
            " 31  referencePrice.lowerTwiceStd       float64\n",
            " 32  referencePrice.higherTwiceStd      float64\n",
            " 33  referencePrice.averagePricePerSqm  object \n",
            " 34  referencePrice.averagePriceTotal   object \n",
            " 35  referencePrice.livingAreaAvg       object \n",
            " 36  referencePrice.comparisonCount     object \n",
            " 37  referencePrice.radiusM             object \n",
            " 38  commissionTotal                    object \n",
            " 39  descriptionLength                  object \n",
            " 40  priceDeviation                     object \n",
            " 41  platformCount                      float64\n",
            " 42  platformEbay                       object \n",
            " 43  platformImmoscout                  object \n",
            " 44  platformImmowelt                   object \n",
            " 45  auction                            object \n",
            " 46  collective                         object \n",
            " 47  leasehold                          object \n",
            " 48  lifehold                           object \n",
            " 49  preservation                       object \n",
            "dtypes: float64(4), object(46)\n",
            "memory usage: 1.0+ GB\n",
            "None\n"
          ],
          "name": "stdout"
        },
        {
          "output_type": "execute_result",
          "data": {
            "text/html": [
              "<div>\n",
              "<style scoped>\n",
              "    .dataframe tbody tr th:only-of-type {\n",
              "        vertical-align: middle;\n",
              "    }\n",
              "\n",
              "    .dataframe tbody tr th {\n",
              "        vertical-align: top;\n",
              "    }\n",
              "\n",
              "    .dataframe thead th {\n",
              "        text-align: right;\n",
              "    }\n",
              "</style>\n",
              "<table border=\"1\" class=\"dataframe\">\n",
              "  <thead>\n",
              "    <tr style=\"text-align: right;\">\n",
              "      <th></th>\n",
              "      <th>estateTypeDetailCode</th>\n",
              "      <th>referencePrice.lowerTwiceStd</th>\n",
              "      <th>referencePrice.higherTwiceStd</th>\n",
              "      <th>platformCount</th>\n",
              "    </tr>\n",
              "  </thead>\n",
              "  <tbody>\n",
              "    <tr>\n",
              "      <th>count</th>\n",
              "      <td>2.073702e+06</td>\n",
              "      <td>1.968309e+06</td>\n",
              "      <td>1.968315e+06</td>\n",
              "      <td>2.693770e+06</td>\n",
              "    </tr>\n",
              "    <tr>\n",
              "      <th>mean</th>\n",
              "      <td>7.274015e+01</td>\n",
              "      <td>3.003464e+04</td>\n",
              "      <td>1.506006e+05</td>\n",
              "      <td>1.249052e+00</td>\n",
              "    </tr>\n",
              "    <tr>\n",
              "      <th>std</th>\n",
              "      <td>7.663157e+01</td>\n",
              "      <td>7.618280e+04</td>\n",
              "      <td>3.772961e+05</td>\n",
              "      <td>5.496157e-01</td>\n",
              "    </tr>\n",
              "    <tr>\n",
              "      <th>min</th>\n",
              "      <td>0.000000e+00</td>\n",
              "      <td>2.200000e+00</td>\n",
              "      <td>1.000000e+00</td>\n",
              "      <td>1.000000e+00</td>\n",
              "    </tr>\n",
              "    <tr>\n",
              "      <th>25%</th>\n",
              "      <td>0.000000e+00</td>\n",
              "      <td>5.100000e+00</td>\n",
              "      <td>1.040000e+01</td>\n",
              "      <td>1.000000e+00</td>\n",
              "    </tr>\n",
              "    <tr>\n",
              "      <th>50%</th>\n",
              "      <td>1.170000e+02</td>\n",
              "      <td>7.300000e+00</td>\n",
              "      <td>1.570000e+01</td>\n",
              "      <td>1.000000e+00</td>\n",
              "    </tr>\n",
              "    <tr>\n",
              "      <th>75%</th>\n",
              "      <td>1.180000e+02</td>\n",
              "      <td>1.600000e+03</td>\n",
              "      <td>5.550000e+03</td>\n",
              "      <td>1.000000e+00</td>\n",
              "    </tr>\n",
              "    <tr>\n",
              "      <th>max</th>\n",
              "      <td>4.413500e+04</td>\n",
              "      <td>1.671000e+06</td>\n",
              "      <td>1.144400e+07</td>\n",
              "      <td>3.000000e+00</td>\n",
              "    </tr>\n",
              "  </tbody>\n",
              "</table>\n",
              "</div>"
            ],
            "text/plain": [
              "       estateTypeDetailCode  ...  platformCount\n",
              "count          2.073702e+06  ...   2.693770e+06\n",
              "mean           7.274015e+01  ...   1.249052e+00\n",
              "std            7.663157e+01  ...   5.496157e-01\n",
              "min            0.000000e+00  ...   1.000000e+00\n",
              "25%            0.000000e+00  ...   1.000000e+00\n",
              "50%            1.170000e+02  ...   1.000000e+00\n",
              "75%            1.180000e+02  ...   1.000000e+00\n",
              "max            4.413500e+04  ...   3.000000e+00\n",
              "\n",
              "[8 rows x 4 columns]"
            ]
          },
          "metadata": {
            "tags": []
          },
          "execution_count": 14
        }
      ]
    },
    {
      "cell_type": "markdown",
      "metadata": {
        "id": "fIxkrWTaKSim"
      },
      "source": [
        "# Get rooms & area from descriptions"
      ]
    },
    {
      "cell_type": "code",
      "metadata": {
        "id": "oZ-qEpRafYwU"
      },
      "source": [
        "# Pick relevant columns\n",
        "sample_df = df[['price', 'area', 'rooms', 'distributionType', 'description', 'referencePrice.averagePriceTotal']]\n",
        "\n",
        "# Delete full dataset variable for memory reasons\n",
        "%reset_selective -f \"^df$\""
      ],
      "execution_count": null,
      "outputs": []
    },
    {
      "cell_type": "code",
      "metadata": {
        "id": "luuULlX8r-Bv"
      },
      "source": [
        "# Keep full rows only\n",
        "def remove_nans(df):\n",
        "  df = df[df.rooms.notnull()]\n",
        "  df = df[df.price.notnull()]\n",
        "  df = df[df.area.notnull()]\n",
        "  df = df[df.description.notnull()]\n",
        "  df = df[df.distributionType.notnull()]\n",
        "  df = df[df['referencePrice.averagePriceTotal'].notnull()]\n",
        "  return df\n",
        "\n",
        "sample_df = remove_nans(sample_df)\n",
        "\n",
        "# Eliminate \\r, \\n, &#x2F; and replace multiple blank spaces for single space\n",
        "sample_df['description'] = sample_df['description'].str.replace('\\r',' ')\n",
        "sample_df['description'] = sample_df['description'].str.replace('\\n',' ')\n",
        "sample_df['description'] = sample_df['description'].str.replace('&#x2F;',' ')\n",
        "sample_df['description'] = sample_df['description'].str.replace('\\s+',' ', regex=True)\n",
        "\n",
        "# Sample size: 1,890,524\n",
        "print(sample_df.shape)"
      ],
      "execution_count": null,
      "outputs": []
    },
    {
      "cell_type": "code",
      "metadata": {
        "id": "6vC8Au_II_TD",
        "colab": {
          "base_uri": "https://localhost:8080/"
        },
        "outputId": "0ef28b8a-6216-4372-9906-fe96ffef5d23"
      },
      "source": [
        "# Subsample dataset to make it manageable with RAM (shuffled)\n",
        "sample_df = sample_df.sample(frac=0.25) # Instead of this line, load \"df_w2v_100k\" (see word2vec section to load it)\n",
        "print(sample_df.shape)"
      ],
      "execution_count": null,
      "outputs": [
        {
          "output_type": "stream",
          "text": [
            "(673469, 6)\n"
          ],
          "name": "stdout"
        }
      ]
    },
    {
      "cell_type": "code",
      "metadata": {
        "id": "9ZsDI14u4oPb"
      },
      "source": [
        "# Split: 70% train, 30% test\n",
        "train_df, test_df = np.split(sample_df, [int(.7*len(sample_df))])"
      ],
      "execution_count": null,
      "outputs": []
    },
    {
      "cell_type": "code",
      "metadata": {
        "id": "Gb3P8wDIzFrp"
      },
      "source": [
        "# Show full description\n",
        "pd.set_option('display.max_colwidth', None)\n",
        "train_df.head(5)\n",
        "# Descriptions are long but sometimes not too specific (e.g. \"can have 1, 3, or 4 rooms\")"
      ],
      "execution_count": null,
      "outputs": []
    },
    {
      "cell_type": "markdown",
      "metadata": {
        "id": "c3w6MlpnsdP3"
      },
      "source": [
        "**Manual pattern analysis**"
      ]
    },
    {
      "cell_type": "code",
      "metadata": {
        "id": "PEDnju_FMrbK"
      },
      "source": [
        "import re\n",
        "import math\n",
        "from numpy import mean\n",
        "\n",
        "\n",
        "def exctract_feature_manually(words, description, chars, typeF):\n",
        "  candidates = []\n",
        "\n",
        "  if type(description) == float:\n",
        "    return math.nan\n",
        "\n",
        "  if typeF == 'rooms':\n",
        "    hb = 40\n",
        "    lb = 0\n",
        "    naive = naive_approach(description)\n",
        "    if naive != -1:\n",
        "      return naive\n",
        "  elif typeF == 'area':\n",
        "    hb = 350\n",
        "    lb = 15\n",
        "\n",
        "  for word in words:\n",
        "    indices = [m.start() for m in re.finditer(word, description, re.IGNORECASE)]\n",
        "    # Search for digits in the previous chars characters\n",
        "    for index in indices:\n",
        "      if (index == -1):\n",
        "        slice_txt = \"\"\n",
        "      elif (index >= chars):\n",
        "        slice_txt = description[(index - chars):index]\n",
        "      else:\n",
        "        slice_txt = description[0:index]\n",
        "      slice_txt = slice_txt.replace(\",\", \".\") # for numbers with commas\n",
        "      candidates.extend(re.findall(r\"[-+]?\\d*\\.\\d+|\\d+\", slice_txt))\n",
        "  candidates = [float(x) for x in candidates if x != []]\n",
        "  candidates = [x for x in candidates if x <= hb] # high bound\n",
        "  candidates = [x for x in candidates if x >= lb] # low bound\n",
        "  #print(candidates)\n",
        "  try:\n",
        "    extracted_value = first(candidates) # mean, max, min, first, last, most_frequent, least_frequent\n",
        "  except (ValueError, TypeError):\n",
        "    extracted_value = math.nan\n",
        "\n",
        "  return extracted_value\n",
        "\n",
        "def first(list):\n",
        "  return next(iter(list), math.nan)\n",
        "\n",
        "def most_frequent(list):\n",
        "  return max(set(list), key = list.count)\n",
        "\n",
        "def least_frequent(list):\n",
        "  return min(set(list), key = list.count)\n",
        "\n",
        "def evaluate_extracted_values(rooms, area, e_rooms, e_area):\n",
        "  dif_rooms = e_rooms - rooms\n",
        "  dif_area = e_area - area\n",
        "  # print('\\n\\nObject %i:' %index)\n",
        "  # print('Error for rooms:', dif_rooms)\n",
        "  # print('Error for area:', dif_area)\n",
        "  return dif_rooms, dif_area"
      ],
      "execution_count": null,
      "outputs": []
    },
    {
      "cell_type": "code",
      "metadata": {
        "colab": {
          "base_uri": "https://localhost:8080/"
        },
        "id": "AjHaZ2KZMc0M",
        "outputId": "40c113c1-1b6a-4be2-a40d-189481f77ca4"
      },
      "source": [
        "words_for_room = ['Zi', 'room'] # 'Zim' is enough, only few words starting with 'Zim' other than 'Zimmer'\n",
        "words_for_area = ['m^2 ', 'qm ', 'm² ', 'Quadrat', 'square', 'm2'] # spaces are extremely important!\n",
        "\n",
        "error_rooms = []\n",
        "error_area = []\n",
        "rooms_fails = 0\n",
        "area_fails = 0\n",
        "rooms_success = 0\n",
        "area_success = 0\n",
        "num_objects = 100000\n",
        "counter = 0\n",
        "fail_indices = []\n",
        "\n",
        "for index, row in train_df.iterrows():\n",
        "  current_txt = row['description']\n",
        "  rooms = float(row['rooms'])\n",
        "  area = float(row['area'])\n",
        "  flag_fail = False\n",
        "\n",
        "  counter += 1\n",
        "\n",
        "  extracted_rooms = exctract_feature_manually(words_for_room, current_txt, 11, 'rooms')\n",
        "  extracted_area = exctract_feature_manually(words_for_area, current_txt, 8, 'area')\n",
        "  e1, e2 = evaluate_extracted_values(rooms, area, extracted_rooms, extracted_area)\n",
        "  if math.isnan(e1):\n",
        "    rooms_fails += 1\n",
        "    flag_fail = True\n",
        "  else:\n",
        "    if e1 == 0:\n",
        "      rooms_success += 1\n",
        "    else:\n",
        "      error_rooms.append(e1)\n",
        "      #print('\\n\\n-----------------------------------')\n",
        "      #print('Real')\n",
        "      #print(rooms)\n",
        "      #print('Guess')\n",
        "      #print(extracted_rooms)\n",
        "      #print('Text')\n",
        "      #print(current_txt)\n",
        "  if math.isnan(e2):\n",
        "    area_fails += 1\n",
        "    flag_fail = True\n",
        "  else:\n",
        "    if e2 == 0:\n",
        "      area_success += 1\n",
        "    else:\n",
        "      error_area.append(e2)\n",
        "\n",
        "  if flag_fail:\n",
        "    fail_indices.append(index)\n",
        "\n",
        "  if counter >= num_objects - 1:\n",
        "    break\n",
        "\n",
        "#print(error_rooms)\n",
        "print('Mean error in the rooms:', mean(error_rooms))\n",
        "print('Number of fails with rooms: {}, which is a fail rate of {}'.format(rooms_fails, (rooms_fails/num_objects)))\n",
        "print('Number of successes with rooms: {}, which is a success rate of {} \\n\\n'.format(rooms_success, (rooms_success/num_objects)))\n",
        "print('Mean error in the area:', mean(error_area))\n",
        "print('Number of fails with area: {}, which is a fail rate of {}'.format(area_fails, (area_fails/num_objects)))\n",
        "print('Number of successes with rooms: {}, which is a success rate of {} \\n\\n'.format(area_success, (area_success/num_objects)))\n",
        "print('The rest is the false prediction rate')"
      ],
      "execution_count": null,
      "outputs": [
        {
          "output_type": "stream",
          "text": [
            "Mean error in the rooms: -6546.469310774817\n",
            "Number of fails with rooms: 56334, which is a fail rate of 0.56334\n",
            "Number of successes with rooms: 28384, which is a success rate of 0.28384 \n",
            "\n",
            "\n",
            "Mean error in the area: -89.94229864925042\n",
            "Number of fails with area: 70755, which is a fail rate of 0.70755\n",
            "Number of successes with rooms: 15770, which is a success rate of 0.1577 \n",
            "\n",
            "\n",
            "The rest is the false prediction rate\n"
          ],
          "name": "stdout"
        }
      ]
    },
    {
      "cell_type": "code",
      "metadata": {
        "id": "NYGOWH6OFcSq"
      },
      "source": [
        "def naive_approach(txt):\n",
        "  if re.search('ein.zimmer.w', txt, re.IGNORECASE) or re.search('1.zimmer.w', txt, re.IGNORECASE):\n",
        "    return(1.0)\n",
        "  elif re.search('zwei.zimmer', txt, re.IGNORECASE) or re.search('2.zimmer', txt, re.IGNORECASE):\n",
        "    return(2.0)\n",
        "  elif re.search('drei.zimmer', txt, re.IGNORECASE) or re.search('3.zimmer', txt, re.IGNORECASE):\n",
        "    return(3.0)\n",
        "  elif re.search('vier.zimmer', txt, re.IGNORECASE) or re.search('4.zimmer', txt, re.IGNORECASE):\n",
        "    return(4.0)\n",
        "  elif re.search('1[\\.,]5.zimmer', txt, re.IGNORECASE):\n",
        "    return(1.5)\n",
        "  elif re.search('2[\\.,]5.zimmer', txt, re.IGNORECASE):\n",
        "    return(2.5)\n",
        "  elif re.search('3[\\.,]5.zimmer', txt, re.IGNORECASE):\n",
        "    return(3.5)\n",
        "  elif re.search('4[\\.,]5.zimmer', txt, re.IGNORECASE):\n",
        "    return(4.5)\n",
        "  elif re.search(' fünf.zimmer', txt, re.IGNORECASE) or re.search(' 5.zimmer', txt, re.IGNORECASE):\n",
        "    return(5.0)\n",
        "  elif re.search('sechs.zimmer', txt, re.IGNORECASE) or re.search('6.zimmer', txt, re.IGNORECASE):\n",
        "    return(6.0)\n",
        "  elif re.search('sieben.zimmer', txt, re.IGNORECASE) or re.search('7.zimmer', txt, re.IGNORECASE):\n",
        "    return(7.0)\n",
        "  elif re.search('acht.zimmer', txt, re.IGNORECASE) or re.search('8.zimmer', txt, re.IGNORECASE):\n",
        "    return(8.0)\n",
        "  else: \n",
        "    return(-1)"
      ],
      "execution_count": null,
      "outputs": []
    },
    {
      "cell_type": "code",
      "metadata": {
        "colab": {
          "base_uri": "https://localhost:8080/"
        },
        "id": "VNi1nA5AOGHl",
        "outputId": "c9a57ce7-f32f-4ffd-bcd4-c3cf212f527b"
      },
      "source": [
        "txt = 'Objektbeschreibung: Dieser Resthof, Baujahr 1910, besitzt eine Grundstücksgröße von 42.300m². Aufgeteilt sind diese in Hoffläche (5.300m²), Hausweide (14.000m²) und Pferdeweide (23.000m²). Die Flächen wurden bisher zur Pferde- und Alpakahaltung genutzt. Ein kleiner Stall mit 4 Boxen sowie ein Unterstand befinden sich auf der Hoffläche.Das Wohnhaus mit einer Wohnfläche von 320m² wurde seit 2006 fortlaufend renoviert. Das Haus wird mit einer Gasheizung mit einem Tank von 2013 befeuert. Eine zusätzliche Heizmöglichkeit bieten die zwei Kaminöfen. Das Satteldach ist mit einem Trapezblech ausgestattet und isoliert. Es wurde das Erdgeschoss, das Obergeschoss als auch das Dachgeschoss ausgebaut. Die 13 Zimmer bieten viel Platz für Familienmitglieder. Es wurden bereits zwei neue Bäder fertiggestellt und zwei weitere befinden sich in der Vorbereitung. Außerdem befinden sich zwei neuwertige Einbauküchen innerhalb des Wohngebäudes.Der Hof verfügt über einen Brunnen mit eigener Frischwasseraufbereitung und über eine moderne 3 Kammer-Kläranlage.Es sind 3 Autostellplätze und eine Garage mit Lagerraum vorhanden. Die Terrasse mit Blick auf die Hausweide und den Stall lädt zum Entspannen ein.Unter dem Link https:&#x2F;&#x2F;tour.ogulo.com&#x2F;NDAf ist ein virtueller Rundgang abrufbar.Ausstattung:- fortlaufende Renovierung seit 2006- 13 Zimmer'\n",
        "\n",
        "test = exctract_feature_manually(words_for_room, txt, 11, 'rooms')\n",
        "#test = naive_approach(txt)\n",
        "print(test)"
      ],
      "execution_count": null,
      "outputs": [
        {
          "output_type": "stream",
          "text": [
            "[13.0, 13.0]\n",
            "13.0\n"
          ],
          "name": "stdout"
        }
      ]
    },
    {
      "cell_type": "markdown",
      "metadata": {
        "id": "ji71L2MexgZ1"
      },
      "source": [
        "\n",
        "# Create word2vec model"
      ]
    },
    {
      "cell_type": "code",
      "metadata": {
        "id": "XM4RWdH4Vi1i"
      },
      "source": [
        "# Pick relevant columns\n",
        "sample_df_w2v = df[['rooms', 'area', 'description', 'price', 'distributionType']]\n",
        "\n",
        "# Delete full dataset variable for memory reasons\n",
        "%reset_selective -f \"^df$\"\n"
      ],
      "execution_count": null,
      "outputs": []
    },
    {
      "cell_type": "code",
      "metadata": {
        "id": "YTaRYeH_cYAm",
        "colab": {
          "base_uri": "https://localhost:8080/"
        },
        "outputId": "ef7ef26e-46e7-4fd1-97fb-da24b5cc8c6f"
      },
      "source": [
        "# Keep full rows only\n",
        "def remove_nans_description(df):\n",
        "  df = df[df.rooms.notnull()]\n",
        "  df = df[df.price.notnull()]\n",
        "  df = df[df.area.notnull()]\n",
        "  df = df[df.description.notnull()]\n",
        "  df = df[df.distributionType.notnull()]\n",
        "  return df\n",
        "\n",
        "sample_df_w2v = remove_nans_description(sample_df_w2v)\n",
        "print(sample_df_w2v.shape)"
      ],
      "execution_count": null,
      "outputs": [
        {
          "output_type": "stream",
          "text": [
            "(2039210, 5)\n"
          ],
          "name": "stdout"
        }
      ]
    },
    {
      "cell_type": "code",
      "metadata": {
        "colab": {
          "base_uri": "https://localhost:8080/"
        },
        "id": "GZDwTjJzfqhJ",
        "outputId": "5155a1f3-486d-4fc2-a3ef-55a2b6bbabb3"
      },
      "source": [
        "# Subsample dataset to make it manageable with RAM - 2632714 is the total size\n",
        "sample_df_w2v = sample_df_w2v.head(100000)\n",
        "print(sample_df_w2v.shape)"
      ],
      "execution_count": null,
      "outputs": [
        {
          "output_type": "stream",
          "text": [
            "(100000, 5)\n"
          ],
          "name": "stdout"
        }
      ]
    },
    {
      "cell_type": "code",
      "metadata": {
        "id": "dGmU6m8Coe9j"
      },
      "source": [
        "# Eliminate \\r, \\n, &#x2F; and replace multiple blank spaces for single space\n",
        "sample_df_w2v['description'] = sample_df_w2v['description'].str.replace('\\r',' ')\n",
        "sample_df_w2v['description'] = sample_df_w2v['description'].str.replace('\\n',' ')\n",
        "sample_df_w2v['description'] = sample_df_w2v['description'].str.replace('&#x2F;',' ')\n",
        "sample_df_w2v['description'] = sample_df_w2v['description'].str.replace('<br />',' ')\n",
        "# sample_df_w2v['description'] = sample_df_w2v['description'].str.replace('\\s+',' ', regex=True)\n",
        "\n",
        "df_w2v_100k = df_w2v_100k.reset_index(drop=True) # reset indices"
      ],
      "execution_count": null,
      "outputs": []
    },
    {
      "cell_type": "code",
      "metadata": {
        "id": "GRQUqhhVxlab",
        "colab": {
          "base_uri": "https://localhost:8080/"
        },
        "outputId": "a0222fa9-b9a1-4222-e276-4307971ff5a2"
      },
      "source": [
        "# Preprocess text with standard nlp pipeline\n",
        "description_text = sample_df_w2v.description.apply(gensim.utils.simple_preprocess)\n",
        "print(description_text)"
      ],
      "execution_count": null,
      "outputs": [
        {
          "output_type": "stream",
          "text": [
            "0         [die, barrierefreie, zimmer, wohnung, mit, ein...\n",
            "1         [toprenovierte, wohnung, mit, fernblick, direk...\n",
            "2         [als, freistehender, gebäudekomplex, liegen, d...\n",
            "3         [im, rahmen, des, neubauprojektes, quot, capel...\n",
            "4         [als, freistehender, gebäudekomplex, liegen, d...\n",
            "                                ...                        \n",
            "107467    [hallo, br, br, biete, hier, eine, möblierte, ...\n",
            "107468    [schicke, im, zentrum, von, marktredwitz, neu,...\n",
            "107469    [schöne, stadtwohnung, auf, der, stock, br, zi...\n",
            "107470    [diese, zimmer, etagenwohnung, befindet, sich,...\n",
            "107471    [wir, bieten, hier, eine, ab, verfügbare, neuw...\n",
            "Name: description, Length: 100000, dtype: object\n"
          ],
          "name": "stdout"
        }
      ]
    },
    {
      "cell_type": "code",
      "metadata": {
        "id": "tNI_tABchN2-"
      },
      "source": [
        "# Delete dataset variable for memory reasons\n",
        "%reset_selective -f \"^sample_df_w2v$\""
      ],
      "execution_count": null,
      "outputs": []
    },
    {
      "cell_type": "code",
      "metadata": {
        "id": "2UQ1dHrmBDyH"
      },
      "source": [
        "# Set up model\n",
        "model = gensim.models.Word2Vec(\n",
        "    size=200,\n",
        "    window=10,\n",
        "    min_count=1,\n",
        "    workers=4,\n",
        ")"
      ],
      "execution_count": null,
      "outputs": []
    },
    {
      "cell_type": "code",
      "metadata": {
        "id": "dJ9ZBgquBNFP"
      },
      "source": [
        "# Build vocabulary (numbers are not kept)\n",
        "vocab = model.build_vocab(description_text, progress_per=1000)"
      ],
      "execution_count": null,
      "outputs": []
    },
    {
      "cell_type": "code",
      "metadata": {
        "id": "V9TAky7zCnb4",
        "colab": {
          "base_uri": "https://localhost:8080/"
        },
        "outputId": "0fe22853-ee77-4b90-eb8c-2045148801f9"
      },
      "source": [
        "# Train model\n",
        "print('Epochs: ', model.epochs)\n",
        "model.train(description_text, total_examples=model.corpus_count, epochs=model.epochs)\n",
        "\n",
        "model.save(\"./word2vec-dataset.model\")"
      ],
      "execution_count": null,
      "outputs": [
        {
          "output_type": "stream",
          "text": [
            "Epochs:  5\n"
          ],
          "name": "stdout"
        }
      ]
    },
    {
      "cell_type": "code",
      "metadata": {
        "colab": {
          "base_uri": "https://localhost:8080/",
          "height": 185
        },
        "id": "_cA1LAkVZeIH",
        "outputId": "38c841b6-6156-4f55-e7cb-1f310e2273f8"
      },
      "source": [
        "# Sanity check\n",
        "display(model.wv.most_similar(\"balkon\"))"
      ],
      "execution_count": null,
      "outputs": [
        {
          "output_type": "display_data",
          "data": {
            "text/plain": [
              "[('südbalkon', 0.8762030601501465),\n",
              " ('westbalkon', 0.8053118586540222),\n",
              " ('sonnenbalkon', 0.7931610345840454),\n",
              " ('südwestbalkon', 0.7526512145996094),\n",
              " ('loggia', 0.7158631086349487),\n",
              " ('eckbalkon', 0.6755017042160034),\n",
              " ('ostbalkon', 0.6675866842269897),\n",
              " ('balkone', 0.5974686145782471),\n",
              " ('dachterrasse', 0.5764081478118896),\n",
              " ('ostgarten', 0.5627032518386841)]"
            ]
          },
          "metadata": {
            "tags": []
          }
        }
      ]
    },
    {
      "cell_type": "code",
      "metadata": {
        "colab": {
          "base_uri": "https://localhost:8080/"
        },
        "id": "VLzbzqKlvOSj",
        "outputId": "a7779187-7087-4aeb-e954-68a09d238949"
      },
      "source": [
        "print(model.wv.vocab[\"haus\"])"
      ],
      "execution_count": null,
      "outputs": [
        {
          "output_type": "stream",
          "text": [
            "Vocab(count:209672, index:41, sample_int:3811165207)\n"
          ],
          "name": "stdout"
        }
      ]
    },
    {
      "cell_type": "code",
      "metadata": {
        "colab": {
          "base_uri": "https://localhost:8080/",
          "height": 265
        },
        "id": "VsgjHThOy6Zk",
        "outputId": "d82682e8-7efd-413a-bbe5-49106d74d4f4"
      },
      "source": [
        "# Visualize tSNE of words\n",
        "\n",
        "#vocab = list(model.wv.key_to_index)\n",
        "vocab = list(model.wv.vocab)\n",
        "vocab = vocab[:100] # only take 100 words for simplicity of plot\n",
        "X = model.wv[vocab]\n",
        "tsne = TSNE(n_components=2)\n",
        "X_tsne = tsne.fit_transform(X)\n",
        "\n",
        "df_tsne = pd.DataFrame(X_tsne, index=vocab, columns=['x', 'y'])\n",
        "\n",
        "fig = plt.figure()\n",
        "ax = fig.add_subplot(1, 1, 1)\n",
        "\n",
        "ax.scatter(df_tsne['x'], df_tsne['y'])\n",
        "for word, pos in df_tsne.iterrows():\n",
        "    ax.annotate(word, pos)\n"
      ],
      "execution_count": null,
      "outputs": [
        {
          "output_type": "display_data",
          "data": {
            "image/png": "[encoded data removed]",
            "text/plain": [
              "<Figure size 432x288 with 1 Axes>"
            ]
          },
          "metadata": {
            "tags": []
          }
        }
      ]
    },
    {
      "cell_type": "code",
      "metadata": {
        "colab": {
          "base_uri": "https://localhost:8080/",
          "height": 567
        },
        "id": "vfQteKW_1Kip",
        "outputId": "1a002eb0-fec1-4b2e-dbd6-9439f756f8c9"
      },
      "source": [
        "def tsnescatterplot(model, word, list_names):\n",
        "    \"\"\" Plot in seaborn the results from the t-SNE dimensionality reduction algorithm of the vectors of a query word,\n",
        "    its list of most similar words, and a list of words.\n",
        "    \"\"\"\n",
        "    arrays = np.empty((0, 200), dtype='f')\n",
        "    word_labels = [word]\n",
        "    color_list  = ['red']\n",
        "\n",
        "    # adds the vector of the query word\n",
        "    arrays = np.append(arrays, model.wv.__getitem__([word]), axis=0)\n",
        "    \n",
        "    # gets list of most similar words\n",
        "    close_words = model.wv.most_similar([word])\n",
        "    \n",
        "    # adds the vector for each of the closest words to the array\n",
        "    for wrd_score in close_words:\n",
        "        wrd_vector = model.wv.__getitem__([wrd_score[0]])\n",
        "        word_labels.append(wrd_score[0])\n",
        "        color_list.append('blue')\n",
        "        arrays = np.append(arrays, wrd_vector, axis=0)\n",
        "    \n",
        "    # adds the vector for each of the words from list_names to the array\n",
        "    for wrd in list_names:\n",
        "        wrd_vector = model.wv.__getitem__([wrd])\n",
        "        word_labels.append(wrd)\n",
        "        color_list.append('green')\n",
        "        arrays = np.append(arrays, wrd_vector, axis=0)\n",
        "        \n",
        "    # Reduces the dimensionality from 300 to 50 dimensions with PCA\n",
        "    reduc = PCA(n_components=20).fit_transform(arrays)\n",
        "    \n",
        "    # Finds t-SNE coordinates for 2 dimensions\n",
        "    np.set_printoptions(suppress=True)\n",
        "    \n",
        "    Y = TSNE(n_components=2, random_state=0, perplexity=15).fit_transform(reduc)\n",
        "    \n",
        "    # Sets everything up to plot\n",
        "    df = pd.DataFrame({'x': [x for x in Y[:, 0]],\n",
        "                       'y': [y for y in Y[:, 1]],\n",
        "                       'words': word_labels,\n",
        "                       'color': color_list})\n",
        "    \n",
        "    fig, _ = plt.subplots()\n",
        "    fig.set_size_inches(9, 9)\n",
        "    \n",
        "    # Basic plot\n",
        "    p1 = sns.regplot(data=df,\n",
        "                     x=\"x\",\n",
        "                     y=\"y\",\n",
        "                     fit_reg=False,\n",
        "                     marker=\"o\",\n",
        "                     scatter_kws={'s': 40,\n",
        "                                  'facecolors': df['color']\n",
        "                                 }\n",
        "                    )\n",
        "    \n",
        "    # Adds annotations one by one with a loop\n",
        "    for line in range(0, df.shape[0]):\n",
        "         p1.text(df[\"x\"][line],\n",
        "                 df['y'][line],\n",
        "                 '  ' + df[\"words\"][line].title(),\n",
        "                 horizontalalignment='left',\n",
        "                 verticalalignment='bottom', size='medium',\n",
        "                 color=df['color'][line],\n",
        "                 weight='normal'\n",
        "                ).set_size(15)\n",
        "\n",
        "    \n",
        "    plt.xlim(Y[:, 0].min()-50, Y[:, 0].max()+50)\n",
        "    plt.ylim(Y[:, 1].min()-50, Y[:, 1].max()+50)\n",
        "            \n",
        "    plt.title('t-SNE visualization for {}'.format(word.title()))\n",
        "\n",
        "tsnescatterplot(model, 'aufzug',[t[0] for t in model.wv.most_similar(positive=[\"aufzug\"], topn=20)][10:])"
      ],
      "execution_count": null,
      "outputs": [
        {
          "output_type": "display_data",
          "data": {
            "image/png": "[encoded data removed]",
            "text/plain": [
              "<Figure size 648x648 with 1 Axes>"
            ]
          },
          "metadata": {
            "tags": []
          }
        }
      ]
    },
    {
      "cell_type": "code",
      "metadata": {
        "id": "EygxrhqrLgxq"
      },
      "source": [
        "# We can only train word2vec on a subsample of the dataset due to limited RAM\n",
        "\n",
        "# Load pretrained German w2v model (https://github.com/devmount/GermanWordEmbeddings) - NOT WORKING\n",
        "model = gensim.models.KeyedVectors.load_word2vec_format(\"german.model\", binary=True)"
      ],
      "execution_count": null,
      "outputs": []
    },
    {
      "cell_type": "markdown",
      "metadata": {
        "id": "clGINxPnZiyU"
      },
      "source": [
        "**Get average of word2vec embeddings for each description**"
      ]
    },
    {
      "cell_type": "code",
      "metadata": {
        "id": "khDHh5b69cj4",
        "colab": {
          "base_uri": "https://localhost:8080/"
        },
        "outputId": "67b422f1-2c62-4e12-888b-3cbb42cd0c2c"
      },
      "source": [
        "# Calculate vectors for descriptions (10k descriptions to make it manageable)\n",
        "\n",
        "#print(len(max(description_text[:10000], key=len)))\n",
        "#description_embeddings = np.empty((200, 10000, 1399))\n",
        "#description_embeddings.fill(np.nan)\n",
        "description_average_embedding = np.empty((200, 10000))\n",
        "\n",
        "for idx, description in enumerate(description_text[:10000]):\n",
        "  count = np.zeros((1,200))\n",
        "  for i, word in enumerate(description):\n",
        "    count = count + model.wv[word]\n",
        "  description_average_embedding[:,idx] = count/i\n",
        "print(i, idx, description_average_embedding.shape)"
      ],
      "execution_count": null,
      "outputs": [
        {
          "output_type": "stream",
          "text": [
            "38 9999 (200, 10000)\n"
          ],
          "name": "stdout"
        }
      ]
    },
    {
      "cell_type": "code",
      "metadata": {
        "colab": {
          "base_uri": "https://localhost:8080/"
        },
        "id": "A0XfUHFhYURt",
        "outputId": "e2b7052b-a2b3-471e-ea88-15a4e5abeec4"
      },
      "source": [
        "print(description_average_embedding[:,0])"
      ],
      "execution_count": null,
      "outputs": [
        {
          "output_type": "stream",
          "text": [
            "[-0.34280895 -0.16509704 -0.56132479  1.03415671  0.1646606  -0.92724887\n",
            " -0.40632892  0.3259586  -0.31776326 -0.61240916 -0.89602232 -0.01091492\n",
            "  1.05038397  0.98656238  0.0928116  -0.13930002  1.15245499  0.73098223\n",
            " -0.41941873 -0.81583023 -0.57669604  0.09908156 -0.17807939  0.6664497\n",
            " -0.59196935 -0.21231973 -0.23908021 -0.69293984  0.46776575 -0.12937125\n",
            "  0.48094355 -0.48349403 -0.95611912  0.01417356 -0.54709173 -0.40764861\n",
            "  0.15871687  0.53774794 -0.18289096  0.31883252 -0.12130479  0.37688967\n",
            "  0.24326115  0.44270382  0.53689019  0.17542687  0.08197587 -0.58308349\n",
            "  0.62203561  1.64874999 -0.61852287 -0.02101302  0.70473979 -0.8735494\n",
            " -0.21720038  0.57709236  0.15369949  0.22616033  0.53317635  1.02963256\n",
            " -0.41577132  0.80002409 -0.87607051  0.38690346  0.05372488  0.77866341\n",
            "  0.17512158 -0.02507188 -0.15442375  0.60707994 -0.18267565 -0.02733165\n",
            " -0.04879656  0.17458416  0.16817902 -0.12410663 -0.27388343  0.1913971\n",
            " -0.2084265  -0.17438594 -0.23688613 -0.15417657 -0.05824719  0.34373501\n",
            "  0.13170464 -0.14813747  0.21870086 -0.05868312 -0.38225711  0.78512567\n",
            "  0.21609155  0.11805498 -0.1204386   0.49136374 -0.36636802  0.46780249\n",
            " -0.84877707 -0.86322921  0.05114271 -0.161353   -0.62135876 -0.51387794\n",
            " -0.60268321  0.5467536  -0.31767323  0.10224067  0.20562502  0.15465306\n",
            " -0.80015375 -0.43606147 -0.199528    0.24151712  0.32465661  0.13021215\n",
            "  0.49384573  0.01525381  0.09539686 -0.41819869  0.24798413  0.65616168\n",
            " -0.78226639  0.50878564 -0.16887513 -0.39921432  0.25801078 -0.34268214\n",
            "  1.72101245 -0.25210614 -0.08224732 -0.1963424  -0.19677665  0.22542898\n",
            "  1.36976521 -0.20905376 -0.03856311  0.10527528 -0.68671946 -0.33919561\n",
            "  0.46427146  0.04532744 -0.36578731  1.4167605  -0.2280419  -0.08982126\n",
            " -0.74045863 -0.41314756  0.37360868 -0.29310431 -0.99317573 -0.6819157\n",
            " -0.79660554  0.31896017  0.90450283 -0.27496403 -0.19473601 -0.56763828\n",
            "  0.27190753 -0.71433819  0.31882295 -0.58606584 -0.6797781   0.17582009\n",
            " -0.47819015 -0.37940332  0.31181098  0.36455256 -0.15417792  0.89228354\n",
            " -0.12778644  0.22617023  0.29955594 -0.24003111 -0.05904064 -0.16554266\n",
            " -0.62133379  0.77050909 -0.4277353  -0.27831191  0.7490782  -1.10289363\n",
            "  0.6929172  -0.46209177 -0.22361535  0.16488122 -0.37397251 -0.32265425\n",
            " -0.50907956  0.59583083  1.1969645  -0.49543848 -0.59484879 -0.43195371\n",
            "  0.0578779  -0.12526467 -0.30158528 -0.1505867  -0.00745487 -0.30934877\n",
            "  0.96052937  0.94128929]\n"
          ],
          "name": "stdout"
        }
      ]
    },
    {
      "cell_type": "markdown",
      "metadata": {
        "id": "UevZuMw8lTR4"
      },
      "source": [
        "# Generate new attributes"
      ]
    },
    {
      "cell_type": "code",
      "metadata": {
        "colab": {
          "base_uri": "https://localhost:8080/",
          "height": 306
        },
        "id": "DboEY10AZluF",
        "outputId": "7adf9244-7615-4d19-bfb8-fa48b9ed0b92"
      },
      "source": [
        "# Add custom column to find out other characteristics of the property\n",
        "# (park, glasfaser, garage, loggia, balkon, bus, lan, supermarkt, schwimmbad, universität, fahrstuhl, pv, fitnessstudio)\n",
        "\n",
        "def find_syns_in_description(inputWord, numSyns):\n",
        "  # inputWord: word to which the function will seek synonyms and most similar words\n",
        "  # numSyns: how many of the top similar words will be checked for occurrence in the description (up to 10)\n",
        "\n",
        "  similarityList = model.wv.most_similar(inputWord)[:numSyns] # Top 5, could also set a threshold\n",
        "  synonyms = [item[0] for item in similarityList]\n",
        "  synonyms.append(inputWord)\n",
        "  wordAppears = list()\n",
        "  for idx, description in enumerate(description_text[:10000]):\n",
        "    isSynInDescription = [word in description for word in synonyms]\n",
        "    if True in isSynInDescription:\n",
        "      wordAppears.append(True)\n",
        "    else:\n",
        "      wordAppears.append(False)\n",
        "  return wordAppears\n",
        "\n",
        "appearsInDescription = find_syns_in_description(\"pv\", 5)\n",
        "\n",
        "display(model.wv.most_similar(\"pv\"))\n",
        "print('\\n\\nHas the property this feature?', appearsInDescription)\n",
        "print('\\n\\nPercentage of properties with this characteristic:', sum(appearsInDescription)/len(appearsInDescription)*100, '%')"
      ],
      "execution_count": null,
      "outputs": [
        {
          "output_type": "display_data",
          "data": {
            "text/plain": [
              "[('photovoltaik', 0.9003180861473083),\n",
              " ('kwp', 0.7747093439102173),\n",
              " ('fotovoltaik', 0.7626659870147705),\n",
              " ('solarthermische', 0.7226443290710449),\n",
              " ('solarthermie', 0.6556092500686646),\n",
              " ('voltaik', 0.6451516151428223),\n",
              " ('einspeisung', 0.6305899620056152),\n",
              " ('solar', 0.5769022703170776),\n",
              " ('solaranlage', 0.5646766424179077),\n",
              " ('kw', 0.5633199214935303)]"
            ]
          },
          "metadata": {
            "tags": []
          }
        },
        {
          "output_type": "stream",
          "text": [
            "\n",
            "\n",
            "Has the property this feature? [False, False, False, False, False, False, False, False, False, False, False, False, False, False, False, False, False, False, False, False, False, False, False, False, False, False, False, False, False, False, False, False, False, False, False, False, False, False, False, False, False, False, False, False, False, False, False, False, False, False, False, False, False, False, False, False, False, False, False, False, False, False, False, False, False, False, False, False, False, False, False, False, False, False, False, False, False, False, False, False, False, False, False, False, False, False, False, False, False, False, False, False, False, False, False, False, False, False, False, False, False, False, False, False, False, False, False, False, False, False, False, False, False, False, False, False, False, False, False, False, False, False, False, False, False, False, False, False, False, False, False, False, False, False, False, False, False, False, False, False, False, False, False, False, False, False, False, False, False, False, False, False, False, False, False, False, False, False, False, False, False, False, False, False, False, False, False, False, False, False, False, False, False, False, False, False, False, False, False, False, False, False, False, False, False, False, False, False, False, False, False, False, False, False, False, False, False, False, False, False, False, False, False, False, False, False, False, False, False, False, False, False, False, False, False, False, False, False, False, False, False, False, False, False, False, False, False, False, False, False, False, False, False, False, False, False, False, False, False, False, False, False, False, False, False, False, False, False, False, False, False, False, False, False, False, False, False, False, False, False, False, False, False, False, False, False, False, False, False, False, False, False, False, False, False, False, False, False, False, False, False, False, False, False, False, False, False, False, False, False, False, False, False, False, False, False, False, False, False, False, False, False, False, False, False, False, False, False, False, False, False, False, False, False, False, False, False, False, False, False, False, False, False, False, False, False, False, False, False, False, False, False, False, False, False, False, False, False, False, False, True, False, False, False, False, False, False, False, False, False, False, False, False, False, False, False, False, False, False, False, False, False, False, False, False, False, False, False, False, False, False, False, False, False, False, False, False, False, False, False, False, False, False, False, False, False, False, False, False, False, False, False, False, False, False, False, False, False, False, False, False, False, False, False, False, False, False, False, False, False, False, False, False, False, False, False, False, False, False, False, False, False, False, False, False, False, False, False, False, False, False, False, False, False, False, False, False, False, False, False, False, False, False, False, False, False, False, False, False, False, False, False, False, False, False, False, False, False, False, False, False, False, False, False, False, False, False, False, False, False, False, False, False, False, False, False, False, False, False, False, False, False, False, False, False, False, False, False, False, False, False, False, False, False, False, False, False, False, False, False, False, False, False, False, False, False, False, False, False, False, False, False, False, False, False, False, False, False, False, False, False, False, False, False, False, False, False, False, False, False, False, False, False, True, False, False, False, False, False, False, False, False, False, False, False, False, False, False, False, False, False, False, False, False, True, False, False, False, True, True, False, False, False, False, False, False, False, False, False, False, False, False, False, False, False, False, False, False, False, False, False, False, False, False, False, False, False, False, False, False, False, False, False, False, False, False, False, False, False, False, False, False, True, False, False, False, False, False, False, False, False, False, False, False, False, False, False, False, False, False, False, False, False, False, False, False, False, False, False, False, False, False, False, False, False, False, False, False, False, False, False, False, False, False, False, False, False, False, False, False, False, False, False, False, False, False, False, False, False, False, False, False, False, False, False, False, False, False, False, False, False, False, False, False, False, False, False, False, False, False, False, False, False, False, False, False, False, False, False, False, False, False, False, False, False, False, False, False, False, False, False, False, False, False, False, False, False, False, False, False, False, False, False, False, False, False, False, False, False, False, False, False, False, False, False, False, False, False, False, False, False, False, False, False, False, False, False, False, False, False, False, False, False, False, False, False, False, False, False, False, False, False, False, False, False, False, False, False, False, False, False, False, False, False, False, False, False, False, False, False, True, False, False, False, False, False, False, False, False, False, False, False, False, False, False, False, False, False, False, False, False, False, False, False, False, False, False, False, False, False, False, False, False, False, False, False, False, False, False, False, False, False, False, False, False, False, False, False, False, False, False, False, False, False, False, False, False, False, False, False, False, False, False, False, False, False, False, False, False, False, False, False, False, False, False, False, False, False, False, False, False, False, False, True, False, False, False, False, False, False, False, False, False, False, False, False, False, False, False, False, False, False, False, False, False, False, False, False, False, False, False, False, False, False, False, False, False, False, False, False, False, False, False, False, False, False, False, False, False, False, False, False, False, False, False, False, False, False, False, False, False, False, False, False, False, False, False, False, False, False, False, False, False, False, False, False, False, False, False, False, False, False, False, False, False, False, False, False, False, False, False, False, False, False, False, False, False, False, False, False, False, False, False, False, False, False, False, False, False, False, False, False, False, False, False, False, False, False, False, False, False, False, False, False, False, False, False, False, False, False, False, False, False, False, False, False, False, False, False, False, False, False, False, False, False, False, False, False, False, False, False, False, False, False, False, False, False, False, False, False, False, False, False, False, False, False, False, False, False, False, False, False, False, False, False, False, False, False, False, False, False, False, False, False, False, False, False, False, False, False, False, False, False, False, False, False, False, False, False, False, False, False, False, False, False, False, False, False, False, False, False, False, False, False, False, False, False, False, False, False, False, False, False, False, False, False, False, False, False, False, False, False, False, False, False, False, False, False, False, False, False, False, False, False, False, False, False, False, False, False, False, False, False, False, False, False, False, False, False, False, False, False, False, False, False, False, False, False, False, False, False, False, False, False, False, False, False, False, False, False, False, False, False, False, False, False, False, False, False, False, False, False, False, False, False, False, False, False, False, False, False, False, False, False, False, False, False, False, False, False, False, False, False, False, False, False, False, False, False, False, False, False, False, False, False, False, False, False, False, False, False, False, False, False, False, False, False, False, False, False, False, False, False, False, False, False, False, False, False, False, False, False, False, False, False, False, False, False, False, False, False, False, False, False, False, False, False, False, False, False, False, False, False, False, False, False, False, False, False, False, False, False, False, False, False, False, False, False, False, False, False, False, False, False, False, False, False, False, False, False, False, False, False, False, False, False, False, False, False, False, False, False, False, False, False, False, False, False, False, False, False, False, False, False, False, False, False, False, False, False, False, False, False, False, False, False, False, False, False, False, False, False, False, False, False, False, False, False, False, False, False, False, False, False, False, False, False, False, False, False, False, False, False, False, False, False, False, False, False, False, False, False, False, False, False, False, False, False, False, False, False, False, False, False, False, False, False, False, False, False, False, False, False, False, False, False, False, False, False, False, False, False, False, False, False, False, False, False, False, False, False, False, False, False, False, False, False, False, False, False, False, False, False, False, False, False, False, False, False, False, False, False, False, False, False, False, False, False, False, False, False, False, False, False, False, False, False, False, False, False, False, False, False, False, False, False, False, False, False, False, False, False, False, False, False, False, False, False, False, False, False, False, False, False, False, False, False, False, False, False, False, False, False, False, False, False, False, False, False, False, False, False, False, False, False, False, False, False, False, False, False, False, False, False, False, False, False, False, False, False, False, False, False, False, False, False, False, False, False, False, False, False, False, False, False, False, False, False, False, True, False, False, False, False, False, False, False, False, False, False, False, False, False, False, False, False, False, False, False, False, False, False, False, False, False, False, False, False, False, False, False, False, False, False, False, False, False, False, False, False, False, False, False, True, True, True, True, False, False, False, False, False, False, False, False, False, False, False, True, True, False, False, False, False, False, False, False, False, False, False, False, False, False, False, False, False, False, False, False, False, False, False, False, False, False, False, False, False, False, False, False, False, False, False, False, False, False, False, False, False, False, False, False, False, False, False, False, False, False, False, False, False, False, False, False, False, False, False, False, False, False, False, False, False, False, False, False, False, False, False, False, False, False, False, False, False, False, False, False, False, False, False, False, False, False, False, False, False, False, False, False, False, False, False, False, False, False, False, False, False, False, False, False, False, False, False, False, False, False, False, False, False, False, False, False, False, False, False, False, False, False, False, False, False, False, False, False, False, False, False, False, False, False, False, False, False, False, False, False, False, False, False, False, False, False, False, False, False, False, False, False, False, False, False, False, False, False, False, False, False, False, False, False, False, False, False, False, False, False, False, False, False, False, False, False, False, False, False, False, False, False, False, False, False, False, False, False, False, False, False, False, False, False, False, False, False, False, False, False, False, False, False, False, False, False, False, False, False, False, False, False, False, False, False, False, False, False, False, False, False, False, False, False, False, False, False, False, False, False, False, False, False, False, False, False, False, False, False, False, False, False, False, False, False, False, False, False, False, False, False, False, False, False, False, False, False, False, False, False, False, False, False, False, False, False, False, False, False, False, False, False, False, False, False, False, False, False, False, False, False, False, False, False, False, False, False, False, False, False, False, False, False, False, False, False, False, False, False, False, False, False, False, False, False, False, False, False, False, False, False, False, False, False, False, False, False, False, False, False, False, False, False, False, False, False, False, False, False, False, False, False, False, False, False, True, True, False, False, False, False, False, False, False, False, False, False, False, False, False, False, False, False, False, False, False, False, False, False, False, False, False, False, False, False, False, False, False, False, False, False, False, False, False, False, False, False, False, False, False, False, False, False, False, False, False, False, False, False, False, False, False, False, False, False, False, False, False, False, False, False, False, False, False, False, False, False, False, False, False, False, False, False, False, False, False, False, False, False, False, False, False, False, False, False, False, False, False, False, False, False, False, False, False, False, False, False, False, False, False, False, False, False, False, False, False, False, False, False, False, False, False, False, False, False, False, False, False, False, False, False, False, False, False, False, False, False, False, False, False, False, False, False, False, False, False, False, False, False, False, False, False, False, False, False, False, False, False, False, False, False, False, False, False, False, False, False, False, False, False, False, False, False, False, False, False, False, False, False, False, False, False, False, False, False, False, False, False, False, False, False, False, False, False, False, False, False, False, False, False, False, False, False, False, False, False, False, False, False, False, False, False, False, False, False, False, False, False, False, False, False, False, False, False, False, False, False, False, False, False, False, False, False, False, False, False, False, False, False, False, False, False, False, False, False, False, False, False, False, False, False, False, False, False, False, False, False, False, False, False, False, False, False, False, False, False, False, False, False, False, False, False, False, False, False, False, False, False, False, False, False, False, False, False, False, False, False, False, False, False, False, False, False, False, False, False, False, False, False, False, False, False, False, False, False, False, False, False, False, False, False, False, False, False, False, False, False, False, False, False, False, False, False, False, False, False, False, False, False, False, False, False, False, False, False, False, False, False, False, False, False, False, False, False, False, False, False, False, False, False, False, False, False, False, False, False, False, False, False, False, False, False, False, False, False, False, False, False, False, False, False, False, False, False, False, False, False, False, False, False, False, False, False, False, False, False, False, False, False, False, False, False, False, False, False, False, False, False, False, False, False, False, False, False, False, False, False, False, False, False, False, False, False, False, False, False, False, False, False, False, False, False, False, False, False, False, False, False, False, False, False, False, False, False, False, False, False, False, False, False, False, False, False, False, False, False, False, False, False, False, False, False, False, False, False, False, False, False, False, False, False, False, False, False, False, False, False, False, False, False, False, False, False, False, False, False, False, False, False, False, False, False, False, False, False, False, False, False, False, False, False, False, False, False, False, False, False, False, False, False, False, False, False, False, False, False, False, False, False, False, False, False, False, False, False, False, False, False, False, False, False, False, False, False, False, False, False, False, False, False, False, False, False, False, False, False, False, False, False, False, False, False, False, False, False, False, False, False, False, False, False, False, False, False, False, False, False, False, False, False, False, False, False, False, False, False, False, False, False, False, False, False, False, False, False, False, False, False, False, False, False, False, False, False, False, False, False, False, False, False, False, False, False, False, False, False, False, False, False, False, False, False, False, False, False, False, False, False, False, False, False, False, False, False, False, False, False, False, False, False, False, False, False, False, False, False, False, False, False, False, False, False, False, False, False, False, False, False, False, False, False, False, False, False, False, False, False, False, False, False, False, False, False, False, False, False, False, False, False, False, False, False, False, False, False, False, False, False, False, False, False, False, False, False, False, False, False, False, False, False, False, False, False, False, False, False, False, False, False, False, False, False, False, False, False, False, False, False, False, False, False, False, False, False, False, False, False, False, False, False, False, False, False, False, False, False, False, False, False, False, False, False, False, False, False, False, False, False, False, False, False, False, False, False, False, False, False, False, False, False, False, False, False, False, False, False, False, True, False, False, False, False, False, False, False, False, False, False, False, False, False, False, False, False, False, False, False, True, False, False, False, False, False, False, False, False, False, False, False, False, False, False, False, False, False, False, False, False, False, False, False, False, False, False, False, False, False, False, False, False, True, False, False, False, False, False, False, False, False, False, False, False, False, False, False, False, False, False, False, False, False, False, False, False, False, False, False, False, False, False, False, False, False, False, False, False, False, False, False, False, False, False, False, False, False, False, False, False, False, False, False, False, False, False, False, False, False, False, False, False, False, False, False, False, False, False, False, False, False, False, False, False, False, False, False, False, False, False, False, False, False, False, False, False, False, False, False, False, False, False, False, True, False, False, False, False, False, False, False, False, False, False, False, False, False, False, False, False, False, False, False, False, False, False, False, False, False, False, False, False, False, False, False, False, False, False, False, False, False, False, False, False, False, False, False, False, False, False, False, False, False, False, False, False, False, False, False, False, False, False, False, False, False, False, False, False, False, False, False, False, False, False, False, False, False, False, False, False, False, False, False, False, False, False, False, False, False, False, False, False, False, False, False, False, False, False, False, False, False, False, False, False, False, False, False, False, False, False, False, False, False, False, False, False, False, False, False, False, False, False, False, False, False, False, False, False, False, False, False, False, False, False, False, False, False, False, False, False, False, False, False, False, False, False, False, False, False, False, False, False, False, False, False, False, False, False, False, False, False, False, False, False, False, False, False, False, False, False, False, False, False, False, False, False, False, False, False, False, False, False, False, False, False, False, False, False, False, False, False, False, False, False, False, False, False, False, False, False, False, False, False, False, False, False, False, False, False, False, False, False, False, False, False, False, False, False, False, False, False, False, False, False, False, False, False, False, False, False, True, False, False, False, False, False, False, False, False, False, False, False, False, False, False, False, False, False, False, False, False, False, False, False, False, False, False, False, False, False, False, False, False, False, False, False, False, False, False, False, False, False, False, False, False, False, False, False, False, False, False, False, False, False, False, False, False, False, False, False, False, False, False, False, False, False, False, False, False, False, False, False, False, False, False, False, False, False, False, False, False, False, False, False, False, False, False, False, False, False, False, False, False, False, False, False, False, False, False, False, False, False, False, False, False, False, False, False, False, False, False, False, False, False, False, False, False, False, False, False, False, False, False, False, False, False, False, False, False, False, False, False, False, False, False, False, False, False, False, False, False, False, False, False, False, False, False, False, False, False, False, False, False, False, False, False, False, False, False, False, False, False, False, False, False, False, False, False, False, False, False, False, False, False, False, False, False, False, False, False, False, False, False, False, False, False, False, False, False, False, False, False, False, False, False, False, False, False, False, False, False, False, False, False, False, False, False, False, False, False, False, False, False, False, False, False, False, False, False, False, False, False, False, False, False, False, False, False, False, False, False, False, False, False, False, False, False, False, False, False, False, False, False, False, False, False, False, False, False, False, False, False, False, False, False, False, False, False, False, False, False, False, False, False, False, False, False, False, False, False, False, False, False, False, False, False, False, False, False, False, False, False, False, False, False, False, False, False, False, False, False, False, False, False, False, False, False, False, False, False, False, False, False, False, False, False, False, False, False, False, False, False, False, False, False, False, False, False, False, False, False, False, False, False, False, False, False, False, False, False, False, False, False, False, False, False, False, False, False, False, False, False, False, False, False, False, False, False, False, False, False, False, False, False, False, False, False, False, False, False, False, False, False, False, False, False, False, False, False, False, False, False, False, False, False, False, False, False, False, False, False, False, False, False, False, False, False, False, False, False, False, False, False, False, False, False, False, False, False, False, False, False, False, False, False, False, False, False, False, False, False, False, False, False, False, False, False, False, False, False, False, False, False, False, False, False, False, False, False, False, False, False, False, False, False, False, False, False, False, False, False, False, False, False, False, False, False, False, False, False, False, False, False, False, False, False, False, False, False, False, False, False, False, False, False, False, False, False, False, False, False, False, False, False, False, False, False, False, False, False, False, False, False, False, False, False, False, False, False, False, False, False, False, False, False, False, False, False, False, False, False, False, False, False, False, False, False, False, False, False, False, False, False, False, False, False, False, False, False, False, False, False, False, False, False, False, False, False, False, False, False, False, False, False, False, False, False, False, False, False, False, False, False, False, False, False, False, False, False, False, False, False, False, False, False, False, False, False, False, False, False, False, False, False, False, False, False, False, False, False, False, False, True, False, False, False, False, False, False, False, False, False, False, False, False, False, False, False, False, False, False, False, False, False, False, False, False, False, False, False, False, False, False, False, True, False, False, False, False, False, False, False, False, False, False, False, False, False, False, False, False, True, False, False, False, False, False, False, False, False, False, False, False, False, False, False, False, False, False, False, False, False, False, False, False, False, False, False, False, False, False, False, False, False, False, False, False, False, False, False, False, False, False, False, False, False, False, False, False, False, False, False, False, False, False, False, False, False, False, False, False, False, False, False, False, False, False, False, False, False, False, False, False, False, False, False, False, False, False, False, False, False, False, False, False, False, False, False, False, False, False, False, False, False, False, False, False, False, False, False, False, False, False, False, False, False, False, False, False, False, False, False, False, False, False, False, False, False, False, False, False, False, False, False, False, False, False, False, False, False, False, False, False, False, False, False, False, False, False, False, False, False, False, False, False, False, False, False, False, False, False, False, False, False, False, False, False, False, False, False, False, False, False, False, False, False, False, False, False, False, False, False, False, False, False, False, False, False, False, False, False, False, False, False, False, False, False, False, False, False, False, False, False, False, False, False, False, False, False, False, False, False, False, False, False, False, False, False, False, False, False, False, False, False, False, False, False, False, False, False, False, False, False, False, False, False, False, False, False, False, False, False, False, False, False, False, False, False, False, False, False, False, False, False, False, False, False, False, False, False, True, False, False, False, False, False, False, False, False, False, False, False, False, False, False, False, False, False, False, False, False, False, False, False, False, False, False, False, False, False, False, False, False, False, False, False, False, False, False, False, False, False, False, False, False, False, False, False, False, False, False, False, False, False, False, False, False, False, False, False, False, False, False, False, False, False, False, False, False, False, False, False, False, False, False, False, False, False, False, False, False, False, False, False, False, False, False, False, False, False, False, False, False, False, False, False, False, False, False, False, False, False, False, False, False, False, False, False, False, False, False, False, False, False, False, False, False, False, False, False, False, False, False, False, False, False, False, False, False, False, False, False, False, False, False, False, False, False, False, False, False, False, False, False, False, False, False, False, False, False, False, False, False, False, False, False, False, False, False, False, False, False, False, False, False, False, False, False, False, False, False, False, False, False, False, False, False, False, False, False, False, False, False, False, False, False, False, False, False, False, False, False, False, False, False, False, False, False, False, False, False, False, False, False, False, False, False, False, False, False, False, False, False, False, False, False, False, False, False, False, False, False, False, False, False, False, False, False, False, False, False, False, False, False, False, False, False, False, False, False, False, False, False, False, False, False, False, False, False, False, False, False, False, False, False, False, False, False, False, False, False, False, False, False, False, False, False, False, False, False, False, False, False, False, False, False, False, False, False, False, False, False, False, False, False, False, False, False, False, False, False, False, False, False, False, False, False, False, False, False, False, False, False, False, False, False, False, False, False, False, False, False, False, False, False, False, False, False, False, False, False, False, False, False, False, False, False, False, False, False, False, False, False, False, False, False, False, False, False, False, False, False, False, False, False, False, False, False, False, False, False, False, False, False, False, False, False, False, False, False, False, False, False, False, False, False, False, False, False, False, False, False, False, False, False, False, False, False, False, False, False, False, False, False, False, False, False, False, False, False, False, False, False, False, False, False, False, False, False, False, False, False, False, False, False, False, False, False, False, False, False, False, False, False, False, False, False, False, False, False, False, False, False, False, False, False, False, False, False, False, False, False, False, False, False, False, False, False, False, False, False, False, False, False, False, False, False, False, False, False, False, False, False, False, False, False, False, False, False, False, False, False, False, False, False, False, False, False, False, False, False, False, False, False, False, False, False, False, False, False, False, False, False, False, False, False, False, False, False, False, False, False, False, False, False, False, False, False, False, False, False, False, False, False, False, False, False, False, False, False, False, False, False, False, False, False, False, False, False, False, False, False, False, False, False, False, False, False, False, False, False, False, False, False, False, False, False, False, False, False, False, False, False, False, False, False, False, False, False, False, False, False, False, False, False, False, False, False, False, False, False, False, False, False, False, False, False, False, False, False, False, False, False, False, False, False, False, False, False, False, False, False, False, False, False, False, False, False, False, False, False, False, False, False, False, False, False, False, False, False, False, False, False, False, False, False, False, False, False, False, False, False, False, False, False, False, False, False, False, False, False, False, False, False, False, False, False, False, False, False, False, False, False, False, False, False, False, False, False, False, False, False, False, False, False, False, False, False, False, False, False, False, False, False, False, False, False, False, False, False, False, False, False, False, False, False, False, False, False, False, False, False, False, False, False, False, False, False, False, False, False, False, False, False, False, False, False, False, False, False, False, False, False, False, False, False, False, False, False, False, False, False, False, False, False, False, False, False, False, False, False, False, False, False, False, False, False, False, False, False, False, False, False, False, False, False, False, False, False, False, False, False, False, False, False, False, False, False, False, False, False, False, False, False, False, False, False, False, False, False, False, False, False, False, False, False, False, False, False, False, False, False, False, False, False, False, False, False, False, False, False, False, False, False, False, False, False, False, False, False, False, False, False, False, False, False, False, False, False, False, False, False, False, False, False, False, False, False, False, False, False, False, False, False, False, False, False, False, False, False, False, False, False, False, False, False, False, False, False, False, False, False, False, False, False, False, False, False, False, False, False, False, False, False, False, False, False, False, False, False, False, False, False, False, False, False, False, False, False, False, False, False, False, False, False, False, False, False, False, False, False, False, False, False, False, False, False, False, False, False, False, False, False, False, False, False, False, False, False, False, False, False, False, False, False, False, False, False, False, False, True, False, False, False, False, False, False, False, False, False, False, False, False, False, False, False, False, False, False, False, False, False, False, False, False, False, False, False, False, False, False, False, False, False, False, False, False, False, False, False, False, False, False, False, False, False, False, False, True, False, False, False, False, False, False, False, False, False, False, False, False, False, False, False, False, False, False, False, False, False, False, False, False, False, False, False, False, False, False, False, False, False, False, False, False, False, False, False, False, False, False, False, False, False, False, False, False, False, False, False, False, False, False, False, False, False, False, False, False, False, False, False, False, False, False, False, False, False, False, False, False, False, False, False, False, False, False, False, False, False, False, False, False, False, False, False, False, False, False, False, False, False, False, False, False, False, False, False, False, False, False, False, False, False, False, False, False, False, False, False, False, False, False, False, False, False, False, False, False, False, False, False, False, False, False, False, False, False, False, False, False, False, False, False, False, False, False, False, False, False, False, False, False, False, False, False, False, False, False, False, False, False, False, False, False, False, False, False, False, False, False, False, False, False, False, False, False, False, False, False, False, False, False, False, False, False, False, False, False, False, False, False, False, False, False, False, False, False, False, False, False, False, False, False, False, False, False, False, False, False, False, False, False, False, False, False, False, False, False, False, False, False, False, False, False, False, False, False, False, False, False, False, False, False, False, False, False, False, False, False, False, False, False, False, False, False, False, False, False, False, False, False, False, False, False, False, False, False, False, False, False, False, False, False, False, False, False, False, False, False, False, False, False, False, False, False, False, False, False, False, False, False, False, False, False, False, False, False, False, False, False, False, False, False, False, False, False, False, False, False, False, False, False, False, False, False, False, False, False, False, False, False, False, False, False, False, False, False, False, False, False, False, False, False, False, False, False, False, False, False, False, False, False, False, False, False, False, False, False, False, False, False, False, False, False, False, False, False, False, False, False, False, False, False, False, False, False, False, False, False, False, False, False, False, False, False, False, False, False, False, False, False, False, False, False, False, False, False, False, False, False, False, False, False, False, False, False, False, False, False, False, False, False, False, False, False, False, False, False, False, False, False, False, False, False, False, False, False, False, False, False, False, False, False, False, False, False, False, False, False, False, False, False, False, False, False, False, False, False, False, False, False, False, False, False, False, False, False, False, False, False, False, False, False, False, False, False, False, False, False, False, False, False, False, False, False, False, False, False, False, False, False, False, False, False, False, False, False, False, False, False, False, False, False, False, False, False, False, False, False, False, False, False, False, False, False, False, False, False, False, False, False, False, False, False, False, False, False, False, False, False, False, False, False, False, False, False, False, False, False, False, False, False, False, False, False, False, False, False, False, False, False, False, False, False, False, False, False, False, False, False, False, False, False, False, False, False, False, False, False, False, False, False, False, False, False, False, False, False, False, False, False, False, False, False, False, False, False, False, False, False, False, False, False, False, False, False, False, False, False, False, False, False, False, False, False, False, False, False, False, False, False, False, False, False, False, False, False, True, False, False, False, False, False, False, False, False, False, False, False, False, False, False, False, False, False, False, False, False, False, False, False, False, False, False, False, False, False, False, False, False, False, False, False, False, False, False, False, False, False, False, False, False, False, False, False, False, False, False, False, False, False, False, False, False, False, False, False, False, False, False, False, False, False, False, False, False, False, False, False, False, False, False, False, False, False, False, False, False, False, False, False, False, False, False, False, False, False, True, False, False, False, False, False, False, False, False, False, False, False, False, False, False, False, False, False, False, False, False, False, False, False, False, False, False, False, False, False, False, False, False, False, False, True, False, False, False, False, False, False, False, False, False, False, False, False, False, False, False, False, False, False, False, False, False, False, False, False, False, False, False, False, False, False, False, False, False, False, False, False, False, False, False, False, False, False, False, False, False, False, False, False, False, False, False, False, False, False, False, False, False, False, False, False, False, False, False, False, False, False, False, False, False, False, False, False, False, False, False, False, False, False, False, False, False, False, False, False, False, False, False, False, False, False, False, False, False, False, False, False, False, False, False, False, False, False, False, False, False, False, False, False, False, False, False, False, False, False, False, False, False, False, False, False, False, False, False, False, False, False, False, False, False, False, False, False, False, False, False, False, False, False, False, False, False, False, False, False, False, False, False, False, False, False, False, False, False, False, False, False, False, False, False, False, False, False, False, False, False, False, False, False, False, False, False, False, False, False, False, False, False, False, False, False, False, False, False, False, False, False, False, False, False, False, False, False, False, False, False, False, False, False, False, False, False, False, False, False, False, False, False, False, False, False, False, False, False, False, False, False, False, False, False, False, False, False, False, False, False, False, False, False, False, False, False, False, False, False, False, False, False, False, False, False, False, False, False, False, False, False, False, False, False, False, False, False, False, False, False, False, False, False, False, False, False, False, False, False, False, False, False, False, False, False, False, False, False, False, False, False, False, False, False, False, False, False, False, False, False, False, False, False, False, False, False, False, False, False, False, False, False, False, False, False, False, False, False, False, False, False, False, False, False, False, False, False, False, False, False, False, False, False, False, False, False, False, False, False, False, False, False, False, False, False, False, False, False, False, False, False, False, False, False, False, False, False, False, False, False, False, False, False, False, False, False, False, False, False, False, False, False, False, False, False, False, False, False, False, False, False, False, False, False, False, False, False, False, False, False, False, False, False, False, False, False, False, False, False, False, False, False, False, False, False, False, False, False, False, False, False, False, False, False, False, False, False, False, False, False, False, False, False, False, False, False, False, False, False, False, False, False, False, False, False, False, False, False, False, False, False, False, False, False, False, False, False, False, False, False, False, False, False, False, False, False, False, False, False, False, False, False, False, False, False, False, False, False, False, False, False, False, False, False, False, False, False, False, False, False, False, False, False, False, False, False, False, False, False, False, False, False, False, False, False, False, False, False, False, False, False, False, False, False, False, False, False, False, False, False, False, False, False, False, False, False, False, False, False, False, False, False, False, False, False, False, False, False, False, False, False, False, False, False, False, False, False, False, False, False, False, False, False, False, False, False, False, False, False, False, False, False, False, False, False, False, False, False, False, False, False, False, False, False, False, False, False, False, False, False, False, False, False, False, False, False, False, False, False, False, False, False, False, False, False, False, False, False, False, False, False, False, False, False, False, False, False, False, False, False, False, False, False, False, False, False, False, False, False, False, False, False, False, False, False, False, False, False, False, False, False, False, False, False, False, False, False, False, False, False, False, False, False, False, False, False, False, False, False, False, False, False, False, False, False, False, False, False, False, False, False, False, False, False, False, False, False, False, False, False, False, False, False, False, False, False, False, False, False, False, False, False, False, False, False, False, False, False, False, False, False, False, False, False, False, False, False, False, False, False, False, False, False, False, False, False, False, False, False, False, False, False, False, False, False, False, False, False, False, False, False, False, False, False, False, False, False, False, False, False, False, False, False, False, False, False, False, False, False, False, False, False, False, False, False, False, False, False, False, False, False, False, False, False, False, False, False, False, False, False, False, False, False, False, False, False, False, False, False, False, False, False, False, False, False, False, False, False, False, False, False, False, False, False, False, False, False, False, False, False, False, False, False, False, False, False, False, False, False, False, False, False, False, False, False, False, False, False, False, False, False, False, False, False, False, False, False, False, False, False, False, False, False, False, False, False, False, False, False, False, False, False, False, False, False, False, False, False, False, False, False, False, False, False, False, False, True, False, False, False, False, False, False, False, False, False, False, False, False, False, False, False, False, False, False, False, False, False, False, False, False, False, False, False, False, False, False, False, False, False, False, False, False, False, False, False, False, False, False, False, False, False, False, False, False, False, False, False, False, False, False, False, False, False, False, False, False, False, False, False, False, False, False, False, False, False, False, False, False, False, False, False, False, False, False, False, False, False, False, False, False, False, False, False, False, False, False, False, False, False, False, False, False, False, False, False, False, False, False, False, False, False, False, False, False, False, False, False, False, False, False, False, False, False, False, False, False, False, False, False, False, False, False, False, False, False, False, False, False, False, False, False, False, False, False, False, False, False, False, False, False, False, False, False, False, False, False, False, False, False, False, False, False, False, False, False, False, False, False, False, False, False, False, False, False, False, False, False, False, False, False, False, False, False, False, False, False, False, False, True, False, False, False, False, False, False, False, False, False, False, False, False, False, False, False, False, False, False, False, False, False, False, False, False, False, False, False, False, False, False, False, False, False, False, False, False, False, False, False, False, False, False, False, False, False, False, False, False, False, False, False, False, False, False, False, False, False, False, False, False, False, False, False, False, False, False, False, False, False, False, False, False, False, False, False, False, False, False, False, False, False, False, False, False, False, False, False, False, False, False, False, False, False, False, False, False, False, False, False, False, False, False, False, False, False, False, False, False, False, False, False, False, False, False, False, False, False, False, False, False, False, False, False, False, False, False, False, False, False, False, False, False, False, False, False, False, False, False, False, False, False, False, False, False, False, False, False, False, False, False, False, False, False, False, False, False, False, False, False, False, False, False, False, False, False, False, False, False, False, False, False, False, False, False, False, False, False, False, False, False, False, False, False, False, False, False, False, False, False, False, False, False, False, False, False, False, False, False, False, False, False, False, False, False, False, False, False, False, False, False, False, False, False, False, False, False, False, False, False, False, False, False, False, False, False, False, False, False, False, False, False, False, False, False, False, True, False, False, False, False, False, False, False, False, False, False, False, False, False, False, False, False, False, False, False, False, False, False, False, False, False, False, False, False, False, False, False, False, False, False, False, False, False, False, False, False, False, False, False, False, False, False, False, False, False, False, False, False, False, False, False, False, False, False, False, False, False, False, False, False, False, False, False, False, False, False, False, False, False, False, False, False, False, False, False, False, False, False, False, False, False, False, False, False, False, False, False, False, False, False, False, False, False, False, False, False, False, False, False, False, False, False, False, False, False, False, False, True, False, False, False, False, False, False, False, False, False, False, False, False, False, False, False, False, False, False, False, False, False, False, False, False, False, False, False, False, False, False, False, False, False, False, False, False, False, False, False, False, False, False, False, False, False, False, False, False, True, False, False, False, False, False, False, False, False, False, False, False, False, False, False, False, False, False, False, False, False, False, False, False, False, False, False, False, False, False, False, False, False, False, False, False, False, False, False, False, False, False, False, False, False, False, False, False, False, False, False, False, False, False, False, False, False, False, False, False, False, False, False, False, False, False, False, False, False, False, False, False, False, False, False, False, False, False, False, False, False, False, False, False, False, False, False, False, False, False, False, False, False, False, False, False, False, False, False, False, False, False, False, False, False, False, False, False, False, False, False, False, False, False, False, False, False, False, False, False, False, False, False, False, False, False, False, False, False, False, False, False, False, False, False, False, False, False, False, False, False, False, False, False, False, False, False, False, False, False, False, False, False, False, False, False, False, False, False, False, False, False, False, False, False, False, False, False, False, False, False, False, False, False, False, False, False, False, False, False, False, False, False, False, False, False, False, False, False, False, False, False, False, False, False, False, False, False, False, False, False, False, False, False, False, False, False, False, False, False, False, False, False, False, False, False, False, False, False, False, False, False, False, False, False, False, False, False, False, False, False, False, False, False, False, False, False, False, False, False, False, False, False, False, False, False, False, False, False, False, False, False, False, False, False, False, False, False, False, False, False, False, False, False, False, False, False, False, False, False, False, False, False, False, False, False, False, False, False, False, False, False, False, False, False, False, False, False, False, False, False, False, False, False, True, False, False, False, False, False, False, False, False, False, False, False, False, False, False, False, False, False, False, False, False, False, False, False, False, False, False, False, False, False, False, False, False, False, False, False, False, False, False, False, False, False, False, False, False, False, False, False, False, False, False, False, False, False, False, False, False, False, False, False, False, False, False, False, False, False, False, False, False, False, False, False, False, False, False, False, False, False, False, False, False, False, False, False, False, False, False, False, False, False, False, False, False, False, False, False, False, False, False, False, False, False, False, False, False, False, False, False, False, False, False, False, False, False, False, False, False, False, False, False, False, False, False, False, False, False, False, False, False, False, False, False, False, False, False, False, False, False, False, False, False, False, False, False, False, False, False, False, False, False, False, False, False, False, False, False, False, False, False, False, False, False, False, False, False, False, False, False, False, False, False, False, False, False, False, False, False, False, False, False, False, False, False, False, False, False, False, False, False, False, False, False, False, False, False, False, False, False, False, False, False, False, False, False, False, False, False, False, False, False, False, False, False, False, False, False, False, False, False, False, False, False, False, False, False, False, False, False, False, False, False, False, False, False, False, False, False, False, False, False, False, False, False, False, False, False, False, False, False, False, False, False, False, False, False, False, False, False, False, False, False, False, False, False, False, False, False, False, False, False, False, False, False, False, False, False, False, False, False, False, False, False, False, False, False, False, False, False, False, False, False, False, False, False, False, False, False, False, False, False, False, False, False, False, False, False, False, False, False, False, False, False, False, False, False, False, False, False, False, False, False, False, False, False, False, False, False, False, False, False, False, False, False, False, False, False, False, False, False, False, False, False, False, False, False, False, False, False, False, False, False, False, False, False, False, False, False, False, False, False, False, False, False, False, False, False, False, False, False, False, False, False, False, False, False, False, False, False, False, False, False, False, False, False, False, False, False, False, False, False, False, False, False, False, False, False, False, False, False, False, False, False, False, False, False, False, False, False, False, False, False, False, False, False, False, False, False, False, False, False, False, False, False, False, False, False, False, False, False, False, False, False, False, False, False, False, False, False, False, False, False, False, False, False, False, False, False, False, False, False, False, False, False, False, False, False, False, False, False, False, False, False, False, False, False, False, False, False, False, False, False, False, False, False, False, False, False, False, False, False, False, False, False, False, False, False, False, False, False, False, False, False, False, False, False, False, False, False, False, False, False, False, False, False, False, False, False, False, False, False, False, False, False, False, False, False, False, False, False, False, False, False, False, False, False, False, False, False, False, False, False, False, False, False, False, False, False, False, False, False, False, False, False, False, False, False, False, False, False, False, False, False, False, False, False, False, False, False, False, False, False, False, False, False, False, False, False, False, False, False, False, False, False, False, False, False, False, False, False, False, False, False, False, False, False, False, False, False, False, False, False, False, False, False, False, False, False, False, False, False, False, False, False, False, False, False, False, False, False, False, False, False, False, False, False, False, False, False, False, False, False, False, False, False, False, False, False, False, False, False, False, False, False, False, False, False, False, False, False, False, False, False, False, False, False, False, False, False, False, False, False, False, False, False, False, False, False, False, False, False, False, False, False, False, False, False, False, False, False, False, False, False, False, False, False, False, False, False, False, False, False, False, False, False, False, False, False, False, False, False, False, False, False, False, False, False, False, False, False, False, False, False, False, False, False, False, False, False, False, False, False, False, False, False, False, False, False, False, False, False, False, False, False, False, False, False, False, False, False, False, False, False, False, False, True, False, False, False, False, False, False, False, False, False, False, False, False, False, False, False, False, False, False, False, False, False, False, False, False, False, False, False, False, False, False, False, False, False, False, False, False, False, False, False, False, False, False, False, False, False, False, False, False, False, False, False, False, False, False, False, False, False, False, False, False, False, False, False, False, False, False, False, False, False, False, False, False, False, False, False, False, False, False, False, False, False, False, False, False, False, False, False, False, False, False, False, False, False, False, False, False, False, False, False, False, False, False, False, False, False, False, True, False, False, False, False, False, False, False, False, False, False, False, False, False, False, False, False, False, False, False, False, False, False, False, False, False, False, False, False, False, False, False, False, False, False, False, False, False, False, False, False, False, False, False, False, False, False, False, False, False, False, False, False, False, False, False, False, False, False, False, False, False, False, False, False, False, False, False, False, False, False, False, False, False, False, False, False, False, False, False, False, False, False, False, False, False, False, False, False, False, False, False, False, False, False, False, False, False, False, False, False, False, False, False, False, False, False, False, False, False, False, False, False, False, False, False, False, False, False, False, False, False, False, False, False, False, False, False, False, False, False, False, False, False, False, False, False, False, False, False, False, False, False, False, False, False, False, False, True, False, False, False, False, False, False, False, False, False, False, False, False, False, False, False, False, False, False, False, False, False, False, False, False, False, False, False, False, False, False, False, False, False, False, False, False, False, False, False, False, False, False, False, False, False, False, False, False, False, False, False, False, False, False, False, False, False, False, False, False, False, False, False, False, False, False, False, False, False, False, False, False, False, False, False, False, False, False, False, False, False, False, False, False, False, False, False, False, False, False, False, False, False, False, False, False, False, False, False, False, False, False, False, False, False, False, False, False, False, False, False, False, False, False, False, False, False, False, False, False, False, False, False, False, False, False, False, False, False, False, False, False, False, False, False, False, False, False, False, False, False, False, False, False, False, False, False, False, False, False, False, False, False, False, False, False, False, False, False, False, False, False, False, False, False, False, False, False, False, False, False, False, False, False, False, False, False, False, False, False, False, False, False, False, False, False, False, False, False, False, False, False, False, False, False, False, False, False, False, False, False, False, False, False, False, False, False, False, False, False, False, False, False, False, False, False, False, False, False, False, False, False, False, False, False, False, False, False, False, False, False, False, False, False, False, False, False, False, False, False, False, False, False, False, False, False, False, False, False, False, False, False, False, False, False, False, False, False, False, False, False, False, False, False, False, False, False, False, False, False, False, False, False, False, False, False, False, False, False, False, False, False, False, False, False, False, False, False, False, False, False, False, False, False, False, False, False, False, False, False, False, False, False, False, False, False, False, False, False, False, False, False, False, False, False, False, False, False, False, False, False, False, False, False, False, False, False, False, False, False, False, False, False, False, False, False, False, False, False, False, False, False, False, False, False, False, False, False, False, False, False, False, False, False, False, False, False, False, False, False, False, False, False, False, False, False, False, False, False, False, False, False, False, False, False, False, False, False, False, False, False, False, False, False, False, False, False, False, False, False, False, False, False, False, False, False, False, False, False, False, False, False, False, False, False, False, False, False, False, False, True, False, False, False, False, False, False, False, False, False, False, False, False, False, False, False, False, False, False, False, False, False, False, False, False, False, False, False, False, False, False, False, False, False, False, False, False, False, False, False, False, False, False, False, False, False, False, False, False, False, False, False, False, False, False, False, False, False, False, False, False, False, False, False, False, False, False, False, False, False, False, False, False, False, False, False, False, False, False, False, False, False, False, False, False, False, False, False, False, False, False, False, False, False, False, False, False, False, False, False, False, False, False, False, False, False, False, False, False, False, False, False, False, False, False, False, False, False, False, False, False, False, False, False, False, False, False, False, False, False, False, False, False, False, False, False, False, False, False, False, False, False, False, False, False, False, False, False, False, False, False, False, True, False, False, False, False, False, False, False, False, False, False, False, False, False, False, False, False, False, False, False, False, False, False, False, False, False, False, False, False, False, False, False, False, False, False, False, False, False, False, False, False, False, False, False, False, False, False, False, False, False, False, False, False, False, False, False, False, False, True, False, False, False, False, False, False, False, False, False, False, False, False, False, False, False, False, False, False, False, False, False, False, False, False, False, False, False, False, False, False, False, False, False, False, False, False, False, False, False, False, False, False, False, False, False, False, False, False, False, False, False, False, False, False, False, False, False, False, False, False, False, False, False, False, False, False, False, False, False, False, False, False, False, False, False, False, False, False, False, False, False, False, False, False, False, False, False, False, False, False, False, False, False, False, False, False, False, False, False, False, False, True, False, False, False, False, False, False, False, False, False, False, False, False, False, False, False, False, False, False, False, False, False, False, False, False, False, False, False, False, False, False, False, False, False, False, False, False, False, False, False, False, False, False, False, False, False, False, False, False, False, False, False, False, False, False, False, False, False, False, False, False, False, False, False, False, False, False, False, False, False, False, False, False, False, False, False, False, False, False, False, False, False, False, False, False, False, False, False, False, False, False, False, False, False, False, False, False, False, False, False, False, False, False, False, False, False, False, False, False, False, False, False, False, False, False, False, False, False, False, False, False, False, False, False, False, False, False, False, False, False, False, False, False, False, False, False, False, False, False, False, False, False, False, False, False, False, False, False, False, False, False, False, False, False, False, False, False, False, False, False, False, False, False, False, False, False, False, False, False, False, False, False, False, False, False, False, False, False, False, False, False, False, False, False, False, False, False, False, False, False, False, False, False, False, False, False, False, False, False, False, False, False, False, False, False, False, False, False, False, False, False, False, False, False, False, False, False, False, False, False, False, False, False, False, False, False, False, False, False, False, False, False, False, False, False, False, False, False, False, False, False, False, False, False, False, False, False, False, False, False, False, False, True, False, False, False, False, False, False, False, False, False, False, False, False, False, False, False, False, False, False, False, False, False, False, False, False, False, False, False, False, False, False, False, False, False, False, False, False, False, False, False, False, False, False, False, False, False, False, False, False, False, False, False, False, False, False, False, False, False, False, False, True, False, False, False, False, False, False, False, False, False, False, False, False, False, False, False, False, False, False, False, False, False, False, False, False, False, False, False, False, False, False, False, False, False, False, False, False, False, False, False, False, False, False, False, False, False, False, False, False, False, False, False, False, False, False, False, False, False, False, False, False, False, False, False, False, False, False, False, False, False, False, False, False, False, False, False, False, False, False, False, False, False, False, False, False, False, False, False, False, False, False, False, False, False, False, False, False, False, False, False, False, False, False, False, False, False, False, False, False, False, False, False, False, False, False, False, False, False, False, False, False, False, False, False, False, False, False, False, False, False, False, False, False, False, False, False, False, False, False, False, False, False, False, False, False, False, False, False, False, False, False, False, False, False, False, False, False, False, False, False, False, False, False, False, False, False, False, False, False, False, False, False, False, False, False, False, False, False, False, False, False, False, False, False, False, False, False, False, False, False, False, False, False, False, False, False, False, False, False, False, False, False, False, False, False, False, False, False, False, False, False, False, False, False, False, False, False, False, False, False, False, False, False, False, False, False, False, False, False, False, False, False, False, False, False, False, False, False, False, False, False, False, False, False, False, False, False, False, False, False, False, False, False, False, False, False, False, False, False, False, False, False, False, False, False, False, False, False, False, False, False, False, False, False, False, False, False, False, False, False, False, False, False, False, False, False, False, False, False, False, False, False, False, False, False, False, False, False, False, False, False, False, False, False, False, False, False, False, False, False, False, False, False, False, False, False, False, False, False, False, False, False, False, False, False, False, False, False, False, False, False, False, True, False, False, True, False, False, False, False, True, False, False, False, False, False, False, False, False, False, False, False, False, False, False, False, False, False, False, True, False, False, False, True, False, False, False, False, False, False, False, False, False, False, False, False, False, False, False, False, False, False, False, False, False, False, False, True, False, False, False, True, False, False, False, True, False, False, False, False, False, False, False, False, False, False, False, False, False, False, False, False, False, False, False, False, False, False, False, False, True, False, False, False, False, False, False, False, False, True, False, False, False, False, False, False, False, False, False, False, False, False, False, False, False, False, False, False, False, False, False, False, False, False, False, False, False, False, False, False, False, False, False, False, False, False, False, False, False, False, False, False, False, False, False, False, False, False, False, False, False, False, False, False, False, False, False, False, False, False, False, False, False, False, False, False, False, False, False, False, False, False, False, False, False, False, False, False, False, False, False, False, False, False, False, False, False, False, False, False, False, False, False, False, False, False, False, False, False, False, False, False, False, False, False, False, False, False, False, False, False, False, False, False, False, False, False, False, False, False, False, False, False, False, False, False, False, False, False, False, False, False, False, False, False, False, False, False, False, False, False, False, False, False, False, False, True, False, False, False, False, False, False, False, False, False, False, False, False, False, False, False, False, False, False, False, False, False, False, False, False, False, False, False, False, False, False, False, False, False, False, False, False, False, False, False, False, False, False, False, False, False, False, False, False, False, False, False, False, False, False, False, False, False, False, False, False, False, False, False, False, False, False, False, True, False, False, False, False, False, False, False, False, False, False, False, False, False, False, False, False, False, False, False, False, False, False, False, False, False, False, False, False, False, False, False, False, False, False, False, False, False, False, False, False, False, False, False, False, False, False, False, False, False, False, False, False, False, False, False, False, False, False, False, False, False, False, False, False, False, False, False, False, False, False, False, False, False, False, False, False, False, False, False, False, False, False, False, False, False, False, False, False, False, False, False, False, False, False, False, False, False, False, False, False, False, False, False, False, False, False, False, False, False, False, False, False, False, False, False, False, False, False, False, False, False, False, False, False, False, False, False, False, False, False, False, True, False, False, False]\n",
            "\n",
            "\n",
            "Percentage of properties with this characteristic: 0.59 %\n"
          ],
          "name": "stdout"
        }
      ]
    },
    {
      "cell_type": "markdown",
      "metadata": {
        "id": "2vx4Z1e8LeLM"
      },
      "source": [
        "# Find most similar properties to query"
      ]
    },
    {
      "cell_type": "code",
      "metadata": {
        "colab": {
          "base_uri": "https://localhost:8080/",
          "height": 348
        },
        "id": "eN3ZASfTt5iM",
        "outputId": "918526a2-1029-4162-80a4-c6c33777e1b7"
      },
      "source": [
        "# Description length hist (from a subsample of 100k descriptions)\n",
        "\n",
        "description_lens = [len(i) for i in description_text]\n",
        "avg_length = sum(description_lens)/len(description_text)\n",
        "print('Average length of descriptions:', avg_length)\n",
        "print('Standard deviation of length of descriptions:', statistics.stdev(description_lens))\n",
        "longer_descriptions = [element for element in description_lens if element > avg_length]\n",
        "print('Descriptions longer than average: ', len(longer_descriptions)/len(description_text)*100, '%')\n",
        "print('Descriptions shorter than average: ', (1 - len(longer_descriptions)/len(description_text))*100, '%')\n",
        "\n",
        "plt.hist(description_lens, bins=200, range=(10, 1000))\n",
        "plt.title('Description length (# words)')\n",
        "_ = plt.show()\n"
      ],
      "execution_count": null,
      "outputs": [
        {
          "output_type": "stream",
          "text": [
            "Average length of descriptions: 208.73138\n",
            "Standard deviation of length of descriptions: 178.8998958496705\n",
            "Descriptions longer than average:  40.935 %\n",
            "Descriptions shorter than average:  59.065 %\n"
          ],
          "name": "stdout"
        },
        {
          "output_type": "display_data",
          "data": {
            "image/png": "[encoded data removed]",
            "text/plain": [
              "<Figure size 432x288 with 1 Axes>"
            ]
          },
          "metadata": {
            "tags": [],
            "needs_background": "light"
          }
        }
      ]
    },
    {
      "cell_type": "code",
      "metadata": {
        "colab": {
          "base_uri": "https://localhost:8080/",
          "height": 1000
        },
        "id": "HATTQ2IoRnL5",
        "outputId": "9016ba10-82a7-45ae-abc5-b338e1ac3464"
      },
      "source": [
        "\n",
        "# Find properties with most similar description vector\n",
        "def find_similar_properties(property_index, num_neighbors):\n",
        "  # property_index: property position in the array \"description_average\" and dataframe \"df_w2v_100k\"\n",
        "  # num_neighbors: number of closest properties to find\n",
        "\n",
        "  # Use KD tree to look up neighbors\n",
        "  tree = KDTree(description_average.T, leaf_size=2, metric='infinity') # cosine similarity, works better than euclidean\n",
        "  queryPoint = description_average[:,property_index:property_index+1].T\n",
        "  #print(queryPoint.shape, description_average.shape)             \n",
        "  dist, ind = tree.query(queryPoint, k=num_neighbors+1)\n",
        "  return dist, ind\n",
        "\n",
        "######\n",
        "neighbors_dist, neighbors_ind = find_similar_properties(27, 5)\n",
        "print('Distance: ', neighbors_dist, '\\nIndices of neighbors: ', neighbors_ind)\n",
        "######\n",
        "\n",
        "# Plot distance\n",
        "#fig = plt.figure()\n",
        "#ax = fig.add_axes([0,0,1,1])\n",
        "#labels = list(map(str, neighbors_ind[0]))\n",
        "#ax.bar(labels[1:], neighbors_dist[0][1:])\n",
        "#ax.set_title('Euclidean distance of property %s to neighbors' %labels[0])\n",
        "#plt.show()\n",
        "\n",
        "pd.set_option('display.max_colwidth', None)\n",
        "display(df_w2v_100k.loc[ neighbors_ind[0] ])"
      ],
      "execution_count": null,
      "outputs": [
        {
          "output_type": "stream",
          "text": [
            "Distance:  [[0.         0.50229175 0.51858243 0.55016354 0.55075029 0.56614054]] \n",
            "Indices of neighbors:  [[  27 2014 1448 1603 6858 1682]]\n"
          ],
          "name": "stdout"
        },
        {
          "output_type": "display_data",
          "data": {
            "text/html": [
              "<div>\n",
              "<style scoped>\n",
              "    .dataframe tbody tr th:only-of-type {\n",
              "        vertical-align: middle;\n",
              "    }\n",
              "\n",
              "    .dataframe tbody tr th {\n",
              "        vertical-align: top;\n",
              "    }\n",
              "\n",
              "    .dataframe thead th {\n",
              "        text-align: right;\n",
              "    }\n",
              "</style>\n",
              "<table border=\"1\" class=\"dataframe\">\n",
              "  <thead>\n",
              "    <tr style=\"text-align: right;\">\n",
              "      <th></th>\n",
              "      <th>rooms</th>\n",
              "      <th>area</th>\n",
              "      <th>description</th>\n",
              "      <th>price</th>\n",
              "      <th>distributionType</th>\n",
              "    </tr>\n",
              "  </thead>\n",
              "  <tbody>\n",
              "    <tr>\n",
              "      <th>27</th>\n",
              "      <td>3</td>\n",
              "      <td>76</td>\n",
              "      <td>Angeboten wird eine gut geschnittene 3-Zimmer-Wohnung mit einer Wohnfläche von ca. 76qm und einer Deckenhöhe von 2,75m in Köln, im Stadtteil Chorweiler-Nord.&lt;br /&gt;&lt;br /&gt;Grundriss&lt;br /&gt;Flur: 9,14qm&lt;br /&gt;Wohnzimmer: 20,72qm&lt;br /&gt;Schlafzimmer: 14qm&lt;br /&gt;Schlafzimmer: 13,40qm&lt;br /&gt;Küche: 8,61qm&lt;br /&gt;Bad: 4,96qm&lt;br /&gt;Abstellraum: 0,99qm&lt;br /&gt;Loggia: 3,64qm&lt;br /&gt;Gesamtwohnfläche: 75,46qm&lt;br /&gt;&lt;br /&gt;Das monatliche Hausgeld beträgt ca. 260 EUR, von denen ca. 80 EUR in die Instandhaltungsrücklage fließen. Die Instandhaltungsrücklage beläuft sich zum 31.12.2019 auf ca. 11 Tausend Euro. Das Haus befindet sich in einem guten Allgemeinzustand. Ein Energieausweis ist vorhanden.&lt;br /&gt;&lt;br /&gt;Wohnhaus&lt;br /&gt;Das 1976 errichtete 10-Parteien-Wohnhaus macht auch von außen einen gepflegten Eindruck: Die Fassade ist in den Farben Weiß und Anthrazit gestaltet. Zum Eingangsbereich führt eine vierstufige Treppe. Das helle Treppenhaus ist mit einem langlebigen Fliesenboden in Terrazzo-Optik ausgestattet und vom Südbalkon blicken Sie auf eine großzügige Grünanlage, die von der Wohnanlage umschlossen wird.&lt;br /&gt;Die gepflegte Wohnanlage liegt in einer baumbestandenen Straße in Köln-Chorweiler. Sie umschließt eine großzügige Grünanlage, sodass Sie vom Wohn- und Essbereich und vom Balkon die Aussicht ins Grüne genießen können.&lt;br /&gt;&lt;br /&gt;Chorweiler ist ein Stadtteil im Norden von Köln und etwa 10 Kilometer oder 19 Minuten mit der S-Bahn vom Stadtzentrum entfernt.&lt;br /&gt;Chorweiler profitiert von einem hohen Freizeit- und Erholungspotenzial. Es gibt Grünanlagen, Kleingärten und ein weit über die Stadt bekanntes Freizeitbad. Der Reiterverein Oranjehof ist in 9 Minuten mit dem Rad zu erreichen.&lt;br /&gt;Drei Fußballplätze liegen hinter der knapp 700 Meter entfernten Heinrich-Böll-Gesamtschule.&lt;br /&gt;&lt;br /&gt;Geschäfte des täglichen Bedarfs wie Supermärkte, Bäckereien etc., Ärzte und Apotheken sowie Restaurants und Cafés sind zu Fuß gut zu erreichen. Das Einkaufszentrum City Center Chorweiler mit über 120 Geschäften und zahlreichen Cafés und Restaurants liegt keine 5 Minuten mit dem Auto entfernt.&lt;br /&gt;&lt;br /&gt;Das urbane Chorweiler verfügt über zahlreiche Freizeitspots:&lt;br /&gt;Zum nahe gelegenen Olof-Palme-Park – einer schönen Parkanlage mit Grünflächen und altem Baumbestand – sind es 4 Minuten mit dem Fahrrad.&lt;br /&gt;Das über die Grenzen bekannte Aqualand – ein Freizeitbad direkt am Fühlinger See – liegt 5 Minuten mit dem Fahrrad entfernt.&lt;br /&gt;Nur wenige Minuten mit dem Rad und schon steht man um Ufer von einem der schönsten Seen in Köln: dem Fühlinger See, einem künstlich angelegten Gewässer, das aus verschieden großen, zusammenhängenden Seen besteht. Hier kann man schwimmen, tauchen, rudern oder einfach nur spazieren gehen. Auch der neue Trendsport Stand Up Paddling wird hier angeboten.&lt;br /&gt;Entspannen und abschalten kann man übrigens auch in den großzügigen Parkanlagen, die im Osten bis zum Naherholungsgebiet Fühlinger See reichen.&lt;br /&gt;&lt;br /&gt;Bildung&lt;br /&gt;Das Bildungsangebot in Chorweiler ist ausgezeichnet. In Chorweiler befinden sich eine Gesamtschule (Heinrich-Böll-Gesamtschule), eine Grundschule und eine Waldorfschule. Die Waldorfschule liegt um die Ecke, zur Gesamtschule und zur Grundschule Merianstraße gehen Sie keine 10 Minuten zu Fuß.&lt;br /&gt;Realschule und Hauptschule sind im südlich anschließenden Seeberg-Nord gelegen, das Heinrich-Mann-Gymnasium in Weiler Volkhoven ist nur 800 Meter entfernt. Chorweiler verfügt auch über eine eigene Volkshochschule.&lt;br /&gt;&lt;br /&gt;ÖPNV und Anbindung mit dem Auto&lt;br /&gt;Die Anbindung von Chorweiler ist sehr gut. Die S-Bahn bringt Sie schnell ins Kölner Zentrum und ist in 3 Minuten zu Fuß zu erreichen.&lt;br /&gt;Die S-Bahn (S6 S11) benötigt 18 Minuten Fahrzeit bis in die Kölner City.&lt;br /&gt;&lt;br /&gt;Über die A 57 kommen Sie zügig in die Zentren der Metropolen Köln und Düsseldorf. Nach Düsseldorf zum Beispiel benötigen Sie 35 Minuten. Auch Leverkusen ist nur eine knappe halbe Stunde entfernt. Zum Kölner Hauptbahnhof sind es 20 Minuten mit dem Auto.&lt;br /&gt;&lt;br /&gt;Die Wohnung ist aktuell solide vermietet. Sie kann als Kapitalanlage erworben werden oder bei Eigenbedarf unter Einhaltung einer Kündigungsfrist von 3 Monaten zum Monatsende selbst bezogen werden.</td>\n",
              "      <td>225000</td>\n",
              "      <td>buy</td>\n",
              "    </tr>\n",
              "    <tr>\n",
              "      <th>2014</th>\n",
              "      <td>3</td>\n",
              "      <td>75</td>\n",
              "      <td>Die schöne 3 Zimmerwohnung liegt im 2 Obergeschoss eines gepflegten Mehrfamilienhaus mit ca. 90 Einheiten. Sie fahren mit Modernen Aufzügen in die 2 OG. des Hauses, kommen aus der Aufzug in einer sehr großräumige Etagenebene, von dort laufen Sie direkt an die Wohnungstür. Dahinter befindet sich Eingangsflur der Wohnung, rechts im Flur befindet sich Kücheneingang. schräg links das Gäste&lt;br /&gt;WC. weiter geradeaus der Wohnzimmer Eingang, weiter durch befindet sich der&lt;br /&gt;Eingang zum zwischen Flur, aus dem erreicht man das Schlaf- und Kinderzimmer sowie das Badezimmer.&lt;br /&gt;Lage Beschreibung:&lt;br /&gt;Die Schöne Wo 3 Zimmerwohnung mit wunderschöne Ausblick befindet sich in&lt;br /&gt;Erkrath-Hochdahl, der aufgrund seiner Grün Zone sowie Verkehrsanbindung ein&lt;br /&gt;beliebter Wohngebiet in direkter Nähe zu Düsseldorf, Hilden, Mettmann, Wuppertal,&lt;br /&gt;Neuss und sogar Köln. Die Wohnung befindet sich in einer ruhige Lage im reinen Wohngebiet. Die Anbindungen zu A 46 und A 3 sind in weniger als 10 Minuten erreichbar. Mit dem Bus erreicht man den S-Bahnhof &amp;quot;Hochdahl-Milrath&amp;quot; in ca. 5 Minuten. Mit der Regional- und S-Bahn ist man schnell in Düsseldorf, Wuppertal und Hagen. Eine weitere Anziehungspunkt für die nähere und weitere Umgebung bietet der &amp;quot;Hochdahler-Markt&amp;quot;. Hier finden Sie alle Geschäfte des täglichen Bedarfs von Kindergarten, Grundschule, Lebensmitteln, Bäcker, Banken, Boutique, Frisur sowie andere interessanten Läden. Die Sportvereine befinden sich in unmittelbarer&lt;br /&gt;Nachbarschaft und sind in wenige Minuten fußläufig erreichbar. Das Neandertal und Unterbacher See liegen nicht weit entfernt von Ihren neuem Domizil .&lt;br /&gt;Die Wohnung befindet sich in 40699 Erkrath-Hochdahl&lt;br /&gt;WICHTIG: Telefonisch wieder erreichbar ab dem 22.09.2020&lt;br /&gt;&lt;br /&gt;Energie:&lt;br /&gt;Energieverbrauch 60 kWh (m²&lt;br /&gt;Energieefizienzklasse B</td>\n",
              "      <td>199500</td>\n",
              "      <td>buy</td>\n",
              "    </tr>\n",
              "    <tr>\n",
              "      <th>1448</th>\n",
              "      <td>3</td>\n",
              "      <td>74</td>\n",
              "      <td>3-Zimmer-Wohnung   74 qm in 23611 Sereetz&lt;br /&gt;Ohne Maklerkosten!&lt;br /&gt;&lt;br /&gt;Diese lichtdurchflutete Wohnung befindet sich in einer ruhigen Sackgassenstrasse von Sereetz.&lt;br /&gt;Die Wohnung ist in Massivbauweise errichtet und ist sehr gut geschnitten. Sie befindet sich im 1. Stock ist sehr gut ausgestattet. Ein zur Sonnenseite ausgerichteter großer Balkon mit Blick ins Grüne ist eine Erholungsoase. Die Wohnung verfügt über ein Wohnzimmer, ein Schlafzimmer, ein Kinder- Arbeitszimmer eine Einbauküche und ein Wc mit Dusche  Duschkabine, Großen Flur und Abstellraum. Die Fliesen sind hochwertig (mit Blattgoldverzierungen in der Küche von V &amp; B ). Hohe Decken mit Stucknachbildungen verziert.&lt;br /&gt;&lt;br /&gt;&lt;br /&gt;Diese in Massivbauweise erstellte 3 Zimmer-Eigentumswohnung ist für einen 1-4 Personen-Haushalt optimal.&lt;br /&gt;&lt;br /&gt;Ausstattung:&lt;br /&gt;Massivbauweise&lt;br /&gt;Kellerraum&lt;br /&gt;Gaszentralheizung&lt;br /&gt;Einbauküche&lt;br /&gt;Wc  Dusche&lt;br /&gt;Außenstellparkplatz direkt vor der Tür&lt;br /&gt;Waschmaschinenraum&lt;br /&gt;Trockenräume&lt;br /&gt;Fahrradraum&lt;br /&gt;Schnee- und Gartenservice&lt;br /&gt;&lt;br /&gt;Daten:&lt;br /&gt;Kaufpreis: 179.000 €&lt;br /&gt;Zimmer: 3 plus Abstellraum&lt;br /&gt;Wohnfläche: ca. 74qm&lt;br /&gt;Baujahr: 1972&lt;br /&gt;Mieteinnahmen: 7560€ pro Jahr ( mtl . 450€ Nettomiete plus mtl 180€ Nebenkosten. Erhöhungspotential vorhanden )&lt;br /&gt;Beim Wunsch auf Eigenbedarf ist eine 9 monatige Kündigungsfrist einzuhalten.&lt;br /&gt;Heizungsart: Zentralheizung erneuert vor ca 3 Jahren&lt;br /&gt;Wärmeisoliert vor ca 5 Jahren&lt;br /&gt;Wesentliche Energieträger: Energieausweis liegt vor.&lt;br /&gt;&lt;br /&gt;&lt;br /&gt;Sereetz ist eine Dorfschaft innerhalb der Gemeinde Ratekau zum Kreis Ostholstein gehörend.&lt;br /&gt;&lt;br /&gt;Sie liegt ca. 7 km Luftlinie nördlich vom Lübecker Stadtzentrum entfernt und es sind ca. 8 km zum Strand.&lt;br /&gt;&lt;br /&gt;Tolle Wander- Joggingwege (2Minuten mit dem Fahrrad) sind in der Nähe vorhanden.&lt;br /&gt;&lt;br /&gt;Beste Infrastruktur ist im Ort vorhanden, u.a. sind hier Rechtsanwalt, Ärzte, Zahnärzte, Friseur, Blumengeschäft, Kindergärten mit Hort und Betreuung bis 3 jährige ( 1 Minute mit dem Fahrrad) , Spielplatz ( 1 Minute mit dem Fahrrad) ,eine Grundschule mit Betreuung nach der Schule (7 Minuten) , Gymnasien und Gemeinschaftsschule findet man in Bad Schwartau (15 Minuten mit dem Fahrrad), eine weitere Gemeinschaftsschule finden Sie in Ratekau ( 15 Minuten mit dem Fahrrad).&lt;br /&gt;&lt;br /&gt;Sowie Einkaufszentren (Netto 5 Minuten zu Fuss ; Familia 8 Minuten mit dem Fahrrad ; Aldi Jawohl (7 Minuten mit dem Fahrrad ) zu finden.&lt;br /&gt;&lt;br /&gt;Ein Sportverein (7 Minuten) , die Feuerwehr (7 Minuten)&lt;br /&gt;sorgen für den idealen Freizeitausgleich. Die ev Kirche mit Freizeitangeboten finden Sie ebenso Vorort. Demnächst entsteht in der Nähe (3 Minuten) ein Altenheim.&lt;br /&gt;Beim Sportverein bzw auch bei diversen Veranstaltungen wie zB Seniorenweihnachtsfeier, Schuladventsbasar, Flohmärkte, Spielenachmittage etc&lt;br /&gt;&lt;br /&gt;Dann findet man im Nachbarort das große Einkaufszentrum LUV mit Ikea ( 8 Minuten mit dem Fahrrad)&lt;br /&gt;&lt;br /&gt;Hier befindet sich auch ein Bahnhof ( 8 Minuten mit dem Fahrrad) der stündlich zum Strand und zum Hauptbahnhof Lübeck ( 8 Minuten) fahren lässt. Dadurch sind Hamburg, Kiel, Puttgarten , Lüneburg, Uni Lübeck sogar Düsseldorf leicht zu erreichen.&lt;br /&gt;&lt;br /&gt;Natürlich fahren auch Busse halbstündlich ( nächste Bushaltestelle -3 Minuten mit dem Fahrrad) in Richtung Ostsee  in Richtung Lübeck&lt;br /&gt;&lt;br /&gt;Mit dem Fahrrad (10 Minuten) können Sie bestens den Kurpark von Bad Schwartau mit allen Einrichtungen erreichen.&lt;br /&gt;&lt;br /&gt;Die Wohnung ist vermietet und eignet sich daher auch sehr gut als KAPITALANLAGE aber auch als Altersresidenz  Zweitwohnung in Strandnähe. Sowie durch die gute Anbindung mit der Bahn sind sie ab Bahnhof LUV in 15 Minuten an der Uni und somit auch für Unibeschäftigte ideal.&lt;br /&gt;&lt;br /&gt;Bitte keine Makleranfragen!!!!</td>\n",
              "      <td>179000</td>\n",
              "      <td>buy</td>\n",
              "    </tr>\n",
              "    <tr>\n",
              "      <th>1603</th>\n",
              "      <td>3</td>\n",
              "      <td>100</td>\n",
              "      <td>Das Objekt befindet sich in einer ruhigen Seitenseite. Es handelt sich um eine Hochparterre-Eigentumswohnung bestehend aus 3 Zimmer, Küche mit Granit. Das Bad ist mit Badewanne, Dusche und Doppelwaschbecken ausgestattet. Am Wohnzimmer befindet sich ein 4 X 2 Meter großer Balkon. Von dort führt eine Treppe in den ca 100 m² großen eingezäunten Garten.&lt;br /&gt;Die Wohnung verfügt über 2 Kellerräume und einer gemeinsamen Waschküche mit Platz für Waschmaschine und Trockner.&lt;br /&gt;&lt;br /&gt;Zu der Wohnung gehören noch 2 Außenstellplätze für PKW`s.&lt;br /&gt;&lt;br /&gt;Bevorzugt sind Käufer die das Objekt langfristig als Kapitalanlage erwerben wollen, da ich weiterhin in der Wohnung leben möchte. Bin fast 81 Jahre alt.&lt;br /&gt;&lt;br /&gt;Makleranfragen zwecklos!!!&lt;br /&gt;Lage&lt;br /&gt;Neuehrenfeld ist ein Stadtteil der durch seine Lage und Infrastruktur sehr beliebt ist.&lt;br /&gt;Die AB 57 ist nur wenige Minuten entfernt. Von dort ist man in wenigen Minuten in der Kölner Innenstadt, bzw. zu der A1 und in Richtung Düsseldorf. Die Bahnhaltestelle ist nur 300 Meter entfernt.&lt;br /&gt;&lt;br /&gt;Geschäfte des täglichen Bedarf, Ärzte, Apotheke, Schule, Kindergarten und Schwimmbad sind im unmittelbaren Umfeld.</td>\n",
              "      <td>480000</td>\n",
              "      <td>buy</td>\n",
              "    </tr>\n",
              "    <tr>\n",
              "      <th>6858</th>\n",
              "      <td>8</td>\n",
              "      <td>350</td>\n",
              "      <td>Diese Immobilie liegt im Saar-Hunsrück-Park, in 66687 Wadern-Wadrill, Am Sonnenhügel 18-20, sehr ruhig gelegen und mit guter Luft. Das Anwesen befindet sich 10 Fahrminuten vom Stadtzentrum Wadern entfernt in einer sehr schönen priviligierten Lage am Ortsrand, über dem Ort gelegen, Südlage mit ca. 12.000m² Gelände und einer langen privaten Einfahrt, die durch ein Tor gesichert ist.  • Gästehaus, ca. 150m² inkl. Keller • Haupthaus, ca. 350m² zzgl. ausgebauter Keller 200m² • Beide Häuser haben einen Fernblick von ca. 20km • Eingezäunte Koppel • Stall • Ca. 1000m² eingezäunter Dressur-/Agilityplatz für Hunde usw. • Internetgeschwindigkeit max 50Mbit/s  Die Bilder zeigen • das Gästehaus und das große Haupthaus • die schöne lange Privateinfahrt • den Gartenpavillon /die Konzertmuschel • die im Amphitheater gepflanzten Obstbäume mit historischen Sorten  • Bad- und Küchengestaltungsideen Ausstattung Balkon, Terrasse, Garten, Keller Lage Das gesamte Anwesen befindet sich in einer fantastischen Lage. Im Saarland glauben wir zählt es mit zu den 50 besten Lagen, die sich in Privatbesitz befinden. Nach ca. 100m Fußweg gelangen Sie zu den wunderschönen Ausblicken die die Sie auf den Landschaftsfotos sehen können.  Der prämierte Wanderweg Saar-Hunsrück-Steig, der zu den schönsten Wanderwegen Deutschlands gehört, führt an diesem Grundstück vorbei. Ebenso der saarländische Rundwanderweg und der Europäische Fernwanderweg. Vom Anwesen aus können Sie mit Mountainbike, Pferden, usw. die außergewöhnlich schöne Landschaft des saarländischen Hochwaldes genießen. Verkehrsanbindung Hervorragende Autobahnverbindungen. Auf 5-15 km gibt es das Novum von 3 Autobahnanschlüssen. Von Wadrill aus sind Sie in ca. 10 Minuten an 3 unterschiedlichen Autobahnauffahrten, die Sie zum einen in 30 Minuten nach Trier und in 60 Minuten nach Luxemburg Stadt bringen. In südlicher Richtung sind Sie in 30 Minuten in Saarbrücken und in 75 Minuten in Metz In östlicher Richtung erreichen Sie in 45 Minuten Kaiserslautern und in 90 Minuten Frankfurt. 4 internationale Flughäfen erreichen Sie in 60 bis 90 Minuten.  Bis zur Waderner Innenstadt und allen Einrichtungen sind es ca. 3 Fahrminuten. Wadern ist Mittelzentrum mit allen Schulen, dem großen bekannten HACOEinkaufszentrum und weiteren Geschäften. Die ärztliche Versorgung ist hervorragend. Alle Fachärzte und Pflegedienste sind im direkten Umkreis von ca. 3-10 Minuten gut erreichbar. Es handelt sich bei dem Grundstück um ein größtenteils nicht einsehbares besonderes Juwel. Infrastruktur (im Umkreis von 5 km): Apotheke, Lebensmittel-Discount, Allgemeinmediziner, Kindergarten, Grundschule, Gymnasium, Öffentliche Verkehrsmittel Sonstiges Energieausweis nicht vorhanden  Makleranfragen nicht erwünscht.</td>\n",
              "      <td>495000</td>\n",
              "      <td>buy</td>\n",
              "    </tr>\n",
              "    <tr>\n",
              "      <th>1682</th>\n",
              "      <td>2</td>\n",
              "      <td>40</td>\n",
              "      <td>Das Wohnhaus (Baujahr 1959) hat vier Etagen. Auf jeder Etage befindet sich eine Wohneinheit zwischen 31 und 40 qm. Alle Wohnungen sind vermietet. Die Nachbarschaft ist gut. Mietrückstände sind seit über 20 Jahren nicht aufgetreten.  Seit dem Jahr 2000 wurden kontinuierlich Modernisierungs- und Instandhaltungsmaßnahmen sukzessive und wertbeständig durchgeführt.  Investoren profitieren bei dieser attraktiven Immobilie gleich zweifach: durch eine urbane, lebendige Lage und durch einen soliden Objektzustand. Eine dauerhafte Vermietung liegt vor.    Das 2. Obergeschoss verfügt über eine 2-Zimmer-Wohnung.   Aufteilung: 2 Zimmer, Küche, Diele, Bad mit WC  Wohnfläche: 40 qm Monatsmiete: 396,75 €  Untergeschoss Der Keller ist trocken. Ein gefliester Waschkeller ist vorhanden.  Hinterhof/Garten  Das Gebäude verfügt über einen Hof zur rückwärtigen Seite sowie über ein sonniges Gartengrundstück, das mit einer Rasenfläche gestaltet ist. Garten und Hof werden von den Mietern gemeinsam genutzt. Die Gesamtfläche des Grundstückes beträgt 288 qm.  Strom- und Betriebskosten Die Kosten für Gas (Heizung und Warmwasser) und Strom für die Wohnungen und die Nutzung der Waschküchenanschlüsse werden von den Mietern direkt an die Versorger gezahlt.  Für alle anderen Kosten in den Betriebskosten erfolgen folgende Vorauszahlungen: Erdgeschoss 85 €, 1. Obergeschoss 155 €, 2. Obergeschoss 115 €, Dachgeschoss 120 €. Ausstattung Investitionen seit 2000 im Detail  •Die Fassade wurde saniert und gedämmt.  •Das Dach wurde mit einer Isolierung versehen, neu eingedeckt und mit Fenstern der Marke Velux und einer Dachentwässerung ausgestattet. •Das helle Treppenhaus wurde saniert.  •Der Eingangsbereich ist teilweise gefliest und teilweise verputzt. •Es wurde eine moderne Waschküche eingebaut, die von allen Mietern genutzt werden kann.  •Die Kellerräume wurden neu aufgeteilt: Jeder Mieter verfügt über einen abschließbaren Kellerbereich.  •Im Hof wurde eine Überdachung installiert.   Sonstiges  Alle Räume sind mit Fenstern ausgestattet. Alle Bäder verfügen über eine Badewanne.  Energie/Haustechnik Energieträger ist Gas. Die Gas-Etagenthermen wurden im Jahr 2003 erneuert.  Ein Energieausweis (11/2013) liegt vor. Der Endenergiebedarf des Gebäudes beträgt 130,6 kWh/(qm·a). Schnelles Internet über Unitymedia ist vorhanden. Die Elektrik ist mit FI-Schaltern ausgestattet. Lage Köln-Kalk. Das Mehrfamilienhaus liegt zentral im rechtsrheinischen Stadtteil Kalk. Das Gesicht der rechten Rheinseite hat sich in den letzten zehn Jahren sehr verändert. Medienunternehmen haben die alten Industriegebäude übernommen. Es gibt mehr Grün, als man in einem ehemaligen Industriegebiet erwarten würde. Neubaugebiete haben sich schon vor Jahren auf dem ehemaligen Gelände der Chemiefabrik Kalk (CFK) angesiedelt. Die „Lanxess Arena“ liegt ebenso wie das Museum „Odysseum“ in der Nähe.  Kalk ist ein urbaner Mix aus unterschiedlichen Kulturen, jungen Familien, Studenten, Start-up-Unternehmern und alteingesessenen Kölnern. Rechtsrheinisch zu wohnen, wird für die junge, mobile Mittelschicht sowie für Studenten immer attraktiver.  Berufspendler schätzen die Anbindung an den Deutzer ICE-Bahnhof, der nur eine Station mit öffentlichen Verkehrsmitteln entfernt ist, und die Nähe zum Köln-Bonner Flughafen. Durch die Nähe zur Technischen Hochschule Köln in Deutz ist die Lage auch für Studenten interessant. Einkaufsmöglichkeiten, zahlreiche Cafés und Restaurants, Ärzte, das Evangelische Krankenhaus und Apotheken sowie zahlreiche Bildungseinrichtungen sind bestens fußläufig zu erreichen. Sehr gute Einkaufsmöglichkeiten findet man zudem im nahe gelegenen Shoppingcenter „Köln Arcaden“.  Erholung und Entspannung bietet der 40 Hektar große Rheinpark mit Domblick sowie der 10 Gehminuten entfernte „Stadtgarten Kalk“.   Die Kölner Innenstadt ist schnell und komfortabel mit den öffentlichen Verkehrsmitteln zu erreichen.   Schulen und Bildungseinrichtungen  Kindergärten und Schulen aller Zweige sind fußläufig bzw. im nahen Umfeld zu erreichen. Zum städtischen Kindergarten zum Beispiel sind es 3 Minuten zu Fuß. Zum Gymnasium „Tusneldastraße“ kommt man sehr gut mit der Bahn oder dem Fahrrad. Die Fachhochschule Deutz liegt 7 Minuten mit dem Fahrrad entfernt. Zur Universität fährt man 18 Minuten mit der Linie 9.  ÖPNV und Anbindung mit dem Auto Der Stadtteil verfügt über eine exzellente Anbindung an die öffentlichen Verkehrsmittel.  Die U-Bahn-Haltestelle (Linien 1 und 9) ist in 9 Minuten zu Fuß zu erreichen.  Der S-Bahnhof liegt 900 Meter entfernt. Dort haben Sie Anschluss an verschiedene S-Bahnen sowie an die Regionalbahn. Die S-Bahn ist nach zwei Stationen am Kölner Dom respektive am Kölner Hauptbahnhof.   Mit dem Pkw ist man zudem schnell auf der A 4 und nach einer kurzen Fahrt über die Rheinbrücke auf der linksrheinischen Seite von Köln. Sonstiges Der Energieausweis liegt bei Besichtigung vor!</td>\n",
              "      <td>216000</td>\n",
              "      <td>buy</td>\n",
              "    </tr>\n",
              "  </tbody>\n",
              "</table>\n",
              "</div>"
            ],
            "text/plain": [
              "     rooms area  ...   price distributionType\n",
              "27       3   76  ...  225000              buy\n",
              "2014     3   75  ...  199500              buy\n",
              "1448     3   74  ...  179000              buy\n",
              "1603     3  100  ...  480000              buy\n",
              "6858     8  350  ...  495000              buy\n",
              "1682     2   40  ...  216000              buy\n",
              "\n",
              "[6 rows x 5 columns]"
            ]
          },
          "metadata": {
            "tags": []
          }
        }
      ]
    },
    {
      "cell_type": "markdown",
      "metadata": {
        "id": "vSRtNciZ1wnI"
      },
      "source": [
        "# Predict area/rooms from description vector (TODO)"
      ]
    },
    {
      "cell_type": "code",
      "metadata": {
        "id": "qDg-6kPl14zS"
      },
      "source": [
        "# Random forest to predict from description vector vs predict from existing other features plus vector\n"
      ],
      "execution_count": null,
      "outputs": []
    },
    {
      "cell_type": "code",
      "metadata": {
        "colab": {
          "base_uri": "https://localhost:8080/",
          "height": 196
        },
        "id": "O9xdXj9vlYEa",
        "outputId": "469e5491-210f-4bf8-8ef9-4743975f36f2"
      },
      "source": [
        "ex_dataframe = df_w2v_100k.loc[[10]]\n",
        "ex_dataframe['ConstructionYear'] = 1985\n",
        "\n",
        "pd.set_option('display.max_colwidth', 10)\n",
        "ex_dataframe_post = df_w2v_100k.loc[[10]]\n",
        "ex_dataframe_post['ConstructionYear'] = 1985\n",
        "ex_dataframe_post['Terrasse'] = True\n",
        "ex_dataframe_post['Parkett'] = False\n",
        "ex_dataframe_post['Garten'] = True\n",
        "ex_dataframe_post['Park'] = False\n",
        "ex_dataframe_post['Aufzug'] = True\n",
        "ex_dataframe_post['Glasfaser'] = False\n",
        "ex_dataframe_post['Garage'] = True\n",
        "ex_dataframe_post['PV'] = False\n",
        "ex_dataframe_post['Schwimmbad'] = True\n",
        "\n",
        "print(ex_dataframe['description'])\n",
        "display(ex_dataframe)\n",
        "display(ex_dataframe_post)"
      ],
      "execution_count": null,
      "outputs": [
        {
          "output_type": "stream",
          "text": [
            "10    Objekt...\n",
            "Name: description, dtype: object\n"
          ],
          "name": "stdout"
        },
        {
          "output_type": "display_data",
          "data": {
            "text/html": [
              "<div>\n",
              "<style scoped>\n",
              "    .dataframe tbody tr th:only-of-type {\n",
              "        vertical-align: middle;\n",
              "    }\n",
              "\n",
              "    .dataframe tbody tr th {\n",
              "        vertical-align: top;\n",
              "    }\n",
              "\n",
              "    .dataframe thead th {\n",
              "        text-align: right;\n",
              "    }\n",
              "</style>\n",
              "<table border=\"1\" class=\"dataframe\">\n",
              "  <thead>\n",
              "    <tr style=\"text-align: right;\">\n",
              "      <th></th>\n",
              "      <th>rooms</th>\n",
              "      <th>area</th>\n",
              "      <th>description</th>\n",
              "      <th>price</th>\n",
              "      <th>distributionType</th>\n",
              "      <th>ConstructionYear</th>\n",
              "    </tr>\n",
              "  </thead>\n",
              "  <tbody>\n",
              "    <tr>\n",
              "      <th>10</th>\n",
              "      <td>1</td>\n",
              "      <td>38.27</td>\n",
              "      <td>Objekt...</td>\n",
              "      <td>238000</td>\n",
              "      <td>buy</td>\n",
              "      <td>1985</td>\n",
              "    </tr>\n",
              "  </tbody>\n",
              "</table>\n",
              "</div>"
            ],
            "text/plain": [
              "   rooms   area description   price distributionType  ConstructionYear\n",
              "10     1  38.27  Objekt...   238000        buy             1985       "
            ]
          },
          "metadata": {
            "tags": []
          }
        },
        {
          "output_type": "display_data",
          "data": {
            "text/html": [
              "<div>\n",
              "<style scoped>\n",
              "    .dataframe tbody tr th:only-of-type {\n",
              "        vertical-align: middle;\n",
              "    }\n",
              "\n",
              "    .dataframe tbody tr th {\n",
              "        vertical-align: top;\n",
              "    }\n",
              "\n",
              "    .dataframe thead th {\n",
              "        text-align: right;\n",
              "    }\n",
              "</style>\n",
              "<table border=\"1\" class=\"dataframe\">\n",
              "  <thead>\n",
              "    <tr style=\"text-align: right;\">\n",
              "      <th></th>\n",
              "      <th>rooms</th>\n",
              "      <th>area</th>\n",
              "      <th>description</th>\n",
              "      <th>price</th>\n",
              "      <th>distributionType</th>\n",
              "      <th>ConstructionYear</th>\n",
              "      <th>Terrasse</th>\n",
              "      <th>Parkett</th>\n",
              "      <th>Garten</th>\n",
              "      <th>Park</th>\n",
              "      <th>Aufzug</th>\n",
              "      <th>Glasfaser</th>\n",
              "      <th>Garage</th>\n",
              "      <th>PV</th>\n",
              "      <th>Schwimmbad</th>\n",
              "    </tr>\n",
              "  </thead>\n",
              "  <tbody>\n",
              "    <tr>\n",
              "      <th>10</th>\n",
              "      <td>1</td>\n",
              "      <td>38.27</td>\n",
              "      <td>Objekt...</td>\n",
              "      <td>238000</td>\n",
              "      <td>buy</td>\n",
              "      <td>1985</td>\n",
              "      <td>True</td>\n",
              "      <td>False</td>\n",
              "      <td>True</td>\n",
              "      <td>False</td>\n",
              "      <td>True</td>\n",
              "      <td>False</td>\n",
              "      <td>True</td>\n",
              "      <td>False</td>\n",
              "      <td>True</td>\n",
              "    </tr>\n",
              "  </tbody>\n",
              "</table>\n",
              "</div>"
            ],
            "text/plain": [
              "   rooms   area description   price  ... Glasfaser  Garage     PV  Schwimmbad\n",
              "10     1  38.27  Objekt...   238000  ...     False    True  False       True \n",
              "\n",
              "[1 rows x 15 columns]"
            ]
          },
          "metadata": {
            "tags": []
          }
        }
      ]
    }
  ]
}